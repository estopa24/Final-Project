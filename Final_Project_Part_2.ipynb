{
 "cells": [
  {
   "cell_type": "markdown",
   "id": "abd10fd1-95fc-4f4d-8f96-fb34476d101d",
   "metadata": {},
   "source": [
    "**Elizabeth Stopa**"
   ]
  },
  {
   "cell_type": "markdown",
   "id": "1a9f7728-c34a-4433-bdf6-a021ee3ce673",
   "metadata": {},
   "source": [
    "**04/15/2024**"
   ]
  },
  {
   "cell_type": "markdown",
   "id": "4dc614ab-cb4d-4791-8d6f-9780826da2f4",
   "metadata": {},
   "source": [
    "# Final Project Part 2"
   ]
  },
  {
   "cell_type": "markdown",
   "id": "b33ec104-bb1e-46ae-804d-df29d5569754",
   "metadata": {},
   "source": [
    "Importing pandas for creating dataframes and data exploration"
   ]
  },
  {
   "cell_type": "code",
   "execution_count": 2,
   "id": "d797ccce-e291-4a7a-a55f-7687940f5946",
   "metadata": {},
   "outputs": [],
   "source": [
    "import pandas as pd"
   ]
  },
  {
   "cell_type": "markdown",
   "id": "0168ead7-0854-4282-b9c1-e29f8b9f83b4",
   "metadata": {},
   "source": [
    "### Dataset 1: \"Fundamentals\""
   ]
  },
  {
   "cell_type": "markdown",
   "id": "c84baf84-c02d-4183-a04b-f83c4871108b",
   "metadata": {},
   "source": [
    "*Reading in each dataset that is a part of the zip file with data of the NY Stock Exchange, as a pandas dataframe*"
   ]
  },
  {
   "cell_type": "code",
   "execution_count": 7,
   "id": "8f430b6b-a775-4925-badb-f9406cf58cd9",
   "metadata": {},
   "outputs": [],
   "source": [
    "df = pd.read_csv('C:\\\\Users\\\\Elizabeth\\\\Downloads\\\\fundamentals.csv')"
   ]
  },
  {
   "cell_type": "markdown",
   "id": "69c6b7af-0ad7-4c22-8e86-07968dc00852",
   "metadata": {},
   "source": [
    "*Looking at the beginning of the dataset to see what the general layout looks like*"
   ]
  },
  {
   "cell_type": "code",
   "execution_count": 10,
   "id": "1823b243-896d-48d3-b795-b611cc1da985",
   "metadata": {},
   "outputs": [
    {
     "data": {
      "text/html": [
       "<div>\n",
       "<style scoped>\n",
       "    .dataframe tbody tr th:only-of-type {\n",
       "        vertical-align: middle;\n",
       "    }\n",
       "\n",
       "    .dataframe tbody tr th {\n",
       "        vertical-align: top;\n",
       "    }\n",
       "\n",
       "    .dataframe thead th {\n",
       "        text-align: right;\n",
       "    }\n",
       "</style>\n",
       "<table border=\"1\" class=\"dataframe\">\n",
       "  <thead>\n",
       "    <tr style=\"text-align: right;\">\n",
       "      <th></th>\n",
       "      <th>Unnamed: 0</th>\n",
       "      <th>Ticker Symbol</th>\n",
       "      <th>Period Ending</th>\n",
       "      <th>Accounts Payable</th>\n",
       "      <th>Accounts Receivable</th>\n",
       "      <th>Add'l income/expense items</th>\n",
       "      <th>After Tax ROE</th>\n",
       "      <th>Capital Expenditures</th>\n",
       "      <th>Capital Surplus</th>\n",
       "      <th>Cash Ratio</th>\n",
       "      <th>...</th>\n",
       "      <th>Total Current Assets</th>\n",
       "      <th>Total Current Liabilities</th>\n",
       "      <th>Total Equity</th>\n",
       "      <th>Total Liabilities</th>\n",
       "      <th>Total Liabilities &amp; Equity</th>\n",
       "      <th>Total Revenue</th>\n",
       "      <th>Treasury Stock</th>\n",
       "      <th>For Year</th>\n",
       "      <th>Earnings Per Share</th>\n",
       "      <th>Estimated Shares Outstanding</th>\n",
       "    </tr>\n",
       "  </thead>\n",
       "  <tbody>\n",
       "    <tr>\n",
       "      <th>0</th>\n",
       "      <td>0</td>\n",
       "      <td>AAL</td>\n",
       "      <td>2012-12-31</td>\n",
       "      <td>3.068000e+09</td>\n",
       "      <td>-222000000.0</td>\n",
       "      <td>-1.961000e+09</td>\n",
       "      <td>23.0</td>\n",
       "      <td>-1.888000e+09</td>\n",
       "      <td>4.695000e+09</td>\n",
       "      <td>53.0</td>\n",
       "      <td>...</td>\n",
       "      <td>7.072000e+09</td>\n",
       "      <td>9.011000e+09</td>\n",
       "      <td>-7.987000e+09</td>\n",
       "      <td>2.489100e+10</td>\n",
       "      <td>1.690400e+10</td>\n",
       "      <td>2.485500e+10</td>\n",
       "      <td>-367000000.0</td>\n",
       "      <td>2012.0</td>\n",
       "      <td>-5.60</td>\n",
       "      <td>3.350000e+08</td>\n",
       "    </tr>\n",
       "    <tr>\n",
       "      <th>1</th>\n",
       "      <td>1</td>\n",
       "      <td>AAL</td>\n",
       "      <td>2013-12-31</td>\n",
       "      <td>4.975000e+09</td>\n",
       "      <td>-93000000.0</td>\n",
       "      <td>-2.723000e+09</td>\n",
       "      <td>67.0</td>\n",
       "      <td>-3.114000e+09</td>\n",
       "      <td>1.059200e+10</td>\n",
       "      <td>75.0</td>\n",
       "      <td>...</td>\n",
       "      <td>1.432300e+10</td>\n",
       "      <td>1.380600e+10</td>\n",
       "      <td>-2.731000e+09</td>\n",
       "      <td>4.500900e+10</td>\n",
       "      <td>4.227800e+10</td>\n",
       "      <td>2.674300e+10</td>\n",
       "      <td>0.0</td>\n",
       "      <td>2013.0</td>\n",
       "      <td>-11.25</td>\n",
       "      <td>1.630222e+08</td>\n",
       "    </tr>\n",
       "    <tr>\n",
       "      <th>2</th>\n",
       "      <td>2</td>\n",
       "      <td>AAL</td>\n",
       "      <td>2014-12-31</td>\n",
       "      <td>4.668000e+09</td>\n",
       "      <td>-160000000.0</td>\n",
       "      <td>-1.500000e+08</td>\n",
       "      <td>143.0</td>\n",
       "      <td>-5.311000e+09</td>\n",
       "      <td>1.513500e+10</td>\n",
       "      <td>60.0</td>\n",
       "      <td>...</td>\n",
       "      <td>1.175000e+10</td>\n",
       "      <td>1.340400e+10</td>\n",
       "      <td>2.021000e+09</td>\n",
       "      <td>4.120400e+10</td>\n",
       "      <td>4.322500e+10</td>\n",
       "      <td>4.265000e+10</td>\n",
       "      <td>0.0</td>\n",
       "      <td>2014.0</td>\n",
       "      <td>4.02</td>\n",
       "      <td>7.169154e+08</td>\n",
       "    </tr>\n",
       "    <tr>\n",
       "      <th>3</th>\n",
       "      <td>3</td>\n",
       "      <td>AAL</td>\n",
       "      <td>2015-12-31</td>\n",
       "      <td>5.102000e+09</td>\n",
       "      <td>352000000.0</td>\n",
       "      <td>-7.080000e+08</td>\n",
       "      <td>135.0</td>\n",
       "      <td>-6.151000e+09</td>\n",
       "      <td>1.159100e+10</td>\n",
       "      <td>51.0</td>\n",
       "      <td>...</td>\n",
       "      <td>9.985000e+09</td>\n",
       "      <td>1.360500e+10</td>\n",
       "      <td>5.635000e+09</td>\n",
       "      <td>4.278000e+10</td>\n",
       "      <td>4.841500e+10</td>\n",
       "      <td>4.099000e+10</td>\n",
       "      <td>0.0</td>\n",
       "      <td>2015.0</td>\n",
       "      <td>11.39</td>\n",
       "      <td>6.681299e+08</td>\n",
       "    </tr>\n",
       "    <tr>\n",
       "      <th>4</th>\n",
       "      <td>4</td>\n",
       "      <td>AAP</td>\n",
       "      <td>2012-12-29</td>\n",
       "      <td>2.409453e+09</td>\n",
       "      <td>-89482000.0</td>\n",
       "      <td>6.000000e+05</td>\n",
       "      <td>32.0</td>\n",
       "      <td>-2.711820e+08</td>\n",
       "      <td>5.202150e+08</td>\n",
       "      <td>23.0</td>\n",
       "      <td>...</td>\n",
       "      <td>3.184200e+09</td>\n",
       "      <td>2.559638e+09</td>\n",
       "      <td>1.210694e+09</td>\n",
       "      <td>3.403120e+09</td>\n",
       "      <td>4.613814e+09</td>\n",
       "      <td>6.205003e+09</td>\n",
       "      <td>-27095000.0</td>\n",
       "      <td>2012.0</td>\n",
       "      <td>5.29</td>\n",
       "      <td>7.328355e+07</td>\n",
       "    </tr>\n",
       "  </tbody>\n",
       "</table>\n",
       "<p>5 rows × 79 columns</p>\n",
       "</div>"
      ],
      "text/plain": [
       "   Unnamed: 0 Ticker Symbol Period Ending  Accounts Payable  \\\n",
       "0           0           AAL    2012-12-31      3.068000e+09   \n",
       "1           1           AAL    2013-12-31      4.975000e+09   \n",
       "2           2           AAL    2014-12-31      4.668000e+09   \n",
       "3           3           AAL    2015-12-31      5.102000e+09   \n",
       "4           4           AAP    2012-12-29      2.409453e+09   \n",
       "\n",
       "   Accounts Receivable  Add'l income/expense items  After Tax ROE  \\\n",
       "0         -222000000.0               -1.961000e+09           23.0   \n",
       "1          -93000000.0               -2.723000e+09           67.0   \n",
       "2         -160000000.0               -1.500000e+08          143.0   \n",
       "3          352000000.0               -7.080000e+08          135.0   \n",
       "4          -89482000.0                6.000000e+05           32.0   \n",
       "\n",
       "   Capital Expenditures  Capital Surplus  Cash Ratio  ...  \\\n",
       "0         -1.888000e+09     4.695000e+09        53.0  ...   \n",
       "1         -3.114000e+09     1.059200e+10        75.0  ...   \n",
       "2         -5.311000e+09     1.513500e+10        60.0  ...   \n",
       "3         -6.151000e+09     1.159100e+10        51.0  ...   \n",
       "4         -2.711820e+08     5.202150e+08        23.0  ...   \n",
       "\n",
       "   Total Current Assets  Total Current Liabilities  Total Equity  \\\n",
       "0          7.072000e+09               9.011000e+09 -7.987000e+09   \n",
       "1          1.432300e+10               1.380600e+10 -2.731000e+09   \n",
       "2          1.175000e+10               1.340400e+10  2.021000e+09   \n",
       "3          9.985000e+09               1.360500e+10  5.635000e+09   \n",
       "4          3.184200e+09               2.559638e+09  1.210694e+09   \n",
       "\n",
       "   Total Liabilities  Total Liabilities & Equity  Total Revenue  \\\n",
       "0       2.489100e+10                1.690400e+10   2.485500e+10   \n",
       "1       4.500900e+10                4.227800e+10   2.674300e+10   \n",
       "2       4.120400e+10                4.322500e+10   4.265000e+10   \n",
       "3       4.278000e+10                4.841500e+10   4.099000e+10   \n",
       "4       3.403120e+09                4.613814e+09   6.205003e+09   \n",
       "\n",
       "   Treasury Stock  For Year  Earnings Per Share  Estimated Shares Outstanding  \n",
       "0    -367000000.0    2012.0               -5.60                  3.350000e+08  \n",
       "1             0.0    2013.0              -11.25                  1.630222e+08  \n",
       "2             0.0    2014.0                4.02                  7.169154e+08  \n",
       "3             0.0    2015.0               11.39                  6.681299e+08  \n",
       "4     -27095000.0    2012.0                5.29                  7.328355e+07  \n",
       "\n",
       "[5 rows x 79 columns]"
      ]
     },
     "execution_count": 10,
     "metadata": {},
     "output_type": "execute_result"
    }
   ],
   "source": [
    "df.head()"
   ]
  },
  {
   "cell_type": "markdown",
   "id": "dc4fe269-d308-442d-8480-4e9631206e7d",
   "metadata": {},
   "source": [
    "*Looking at the end of the dataset to see if the end looks similar to the beginning in terms of format and data*"
   ]
  },
  {
   "cell_type": "code",
   "execution_count": 40,
   "id": "c1796037-c206-4ae9-b440-b5e733a93be1",
   "metadata": {},
   "outputs": [
    {
     "data": {
      "text/html": [
       "<div>\n",
       "<style scoped>\n",
       "    .dataframe tbody tr th:only-of-type {\n",
       "        vertical-align: middle;\n",
       "    }\n",
       "\n",
       "    .dataframe tbody tr th {\n",
       "        vertical-align: top;\n",
       "    }\n",
       "\n",
       "    .dataframe thead th {\n",
       "        text-align: right;\n",
       "    }\n",
       "</style>\n",
       "<table border=\"1\" class=\"dataframe\">\n",
       "  <thead>\n",
       "    <tr style=\"text-align: right;\">\n",
       "      <th></th>\n",
       "      <th>Unnamed: 0</th>\n",
       "      <th>Ticker Symbol</th>\n",
       "      <th>Period Ending</th>\n",
       "      <th>Accounts Payable</th>\n",
       "      <th>Accounts Receivable</th>\n",
       "      <th>Add'l income/expense items</th>\n",
       "      <th>After Tax ROE</th>\n",
       "      <th>Capital Expenditures</th>\n",
       "      <th>Capital Surplus</th>\n",
       "      <th>Cash Ratio</th>\n",
       "      <th>...</th>\n",
       "      <th>Total Current Assets</th>\n",
       "      <th>Total Current Liabilities</th>\n",
       "      <th>Total Equity</th>\n",
       "      <th>Total Liabilities</th>\n",
       "      <th>Total Liabilities &amp; Equity</th>\n",
       "      <th>Total Revenue</th>\n",
       "      <th>Treasury Stock</th>\n",
       "      <th>For Year</th>\n",
       "      <th>Earnings Per Share</th>\n",
       "      <th>Estimated Shares Outstanding</th>\n",
       "    </tr>\n",
       "  </thead>\n",
       "  <tbody>\n",
       "    <tr>\n",
       "      <th>1776</th>\n",
       "      <td>1776</td>\n",
       "      <td>ZION</td>\n",
       "      <td>2015-12-31</td>\n",
       "      <td>0.000000e+00</td>\n",
       "      <td>0.0</td>\n",
       "      <td>-2530000.0</td>\n",
       "      <td>4.0</td>\n",
       "      <td>-157361000.0</td>\n",
       "      <td>0.000000e+00</td>\n",
       "      <td>NaN</td>\n",
       "      <td>...</td>\n",
       "      <td>0.000000e+00</td>\n",
       "      <td>0.000000e+00</td>\n",
       "      <td>7.507519e+09</td>\n",
       "      <td>5.216201e+10</td>\n",
       "      <td>5.966952e+10</td>\n",
       "      <td>2.210591e+09</td>\n",
       "      <td>0.0</td>\n",
       "      <td>2015.0</td>\n",
       "      <td>1.20</td>\n",
       "      <td>2.578925e+08</td>\n",
       "    </tr>\n",
       "    <tr>\n",
       "      <th>1777</th>\n",
       "      <td>1777</td>\n",
       "      <td>ZTS</td>\n",
       "      <td>2013-12-31</td>\n",
       "      <td>1.381000e+09</td>\n",
       "      <td>-99000000.0</td>\n",
       "      <td>9000000.0</td>\n",
       "      <td>54.0</td>\n",
       "      <td>-184000000.0</td>\n",
       "      <td>8.780000e+08</td>\n",
       "      <td>43.0</td>\n",
       "      <td>...</td>\n",
       "      <td>3.357000e+09</td>\n",
       "      <td>1.415000e+09</td>\n",
       "      <td>9.400000e+08</td>\n",
       "      <td>5.618000e+09</td>\n",
       "      <td>6.558000e+09</td>\n",
       "      <td>4.561000e+09</td>\n",
       "      <td>0.0</td>\n",
       "      <td>2013.0</td>\n",
       "      <td>1.01</td>\n",
       "      <td>4.990099e+08</td>\n",
       "    </tr>\n",
       "    <tr>\n",
       "      <th>1778</th>\n",
       "      <td>1778</td>\n",
       "      <td>ZTS</td>\n",
       "      <td>2014-12-31</td>\n",
       "      <td>1.071000e+09</td>\n",
       "      <td>69000000.0</td>\n",
       "      <td>-7000000.0</td>\n",
       "      <td>44.0</td>\n",
       "      <td>-180000000.0</td>\n",
       "      <td>9.580000e+08</td>\n",
       "      <td>81.0</td>\n",
       "      <td>...</td>\n",
       "      <td>3.465000e+09</td>\n",
       "      <td>1.086000e+09</td>\n",
       "      <td>1.311000e+09</td>\n",
       "      <td>5.277000e+09</td>\n",
       "      <td>6.588000e+09</td>\n",
       "      <td>4.785000e+09</td>\n",
       "      <td>0.0</td>\n",
       "      <td>2014.0</td>\n",
       "      <td>1.16</td>\n",
       "      <td>5.025862e+08</td>\n",
       "    </tr>\n",
       "    <tr>\n",
       "      <th>1779</th>\n",
       "      <td>1779</td>\n",
       "      <td>ZTS</td>\n",
       "      <td>2015-12-31</td>\n",
       "      <td>1.313000e+09</td>\n",
       "      <td>-58000000.0</td>\n",
       "      <td>-81000000.0</td>\n",
       "      <td>32.0</td>\n",
       "      <td>-224000000.0</td>\n",
       "      <td>1.012000e+09</td>\n",
       "      <td>65.0</td>\n",
       "      <td>...</td>\n",
       "      <td>3.830000e+09</td>\n",
       "      <td>1.781000e+09</td>\n",
       "      <td>1.068000e+09</td>\n",
       "      <td>6.845000e+09</td>\n",
       "      <td>7.913000e+09</td>\n",
       "      <td>4.765000e+09</td>\n",
       "      <td>-203000000.0</td>\n",
       "      <td>2015.0</td>\n",
       "      <td>0.68</td>\n",
       "      <td>4.985294e+08</td>\n",
       "    </tr>\n",
       "    <tr>\n",
       "      <th>1780</th>\n",
       "      <td>1780</td>\n",
       "      <td>ZTS</td>\n",
       "      <td>2016-12-31</td>\n",
       "      <td>1.076000e+09</td>\n",
       "      <td>15000000.0</td>\n",
       "      <td>2000000.0</td>\n",
       "      <td>55.0</td>\n",
       "      <td>-216000000.0</td>\n",
       "      <td>1.024000e+09</td>\n",
       "      <td>65.0</td>\n",
       "      <td>...</td>\n",
       "      <td>3.390000e+09</td>\n",
       "      <td>1.117000e+09</td>\n",
       "      <td>1.487000e+09</td>\n",
       "      <td>6.162000e+09</td>\n",
       "      <td>7.649000e+09</td>\n",
       "      <td>4.888000e+09</td>\n",
       "      <td>-421000000.0</td>\n",
       "      <td>NaN</td>\n",
       "      <td>NaN</td>\n",
       "      <td>NaN</td>\n",
       "    </tr>\n",
       "  </tbody>\n",
       "</table>\n",
       "<p>5 rows × 79 columns</p>\n",
       "</div>"
      ],
      "text/plain": [
       "      Unnamed: 0 Ticker Symbol Period Ending  Accounts Payable  \\\n",
       "1776        1776          ZION    2015-12-31      0.000000e+00   \n",
       "1777        1777           ZTS    2013-12-31      1.381000e+09   \n",
       "1778        1778           ZTS    2014-12-31      1.071000e+09   \n",
       "1779        1779           ZTS    2015-12-31      1.313000e+09   \n",
       "1780        1780           ZTS    2016-12-31      1.076000e+09   \n",
       "\n",
       "      Accounts Receivable  Add'l income/expense items  After Tax ROE  \\\n",
       "1776                  0.0                  -2530000.0            4.0   \n",
       "1777          -99000000.0                   9000000.0           54.0   \n",
       "1778           69000000.0                  -7000000.0           44.0   \n",
       "1779          -58000000.0                 -81000000.0           32.0   \n",
       "1780           15000000.0                   2000000.0           55.0   \n",
       "\n",
       "      Capital Expenditures  Capital Surplus  Cash Ratio  ...  \\\n",
       "1776          -157361000.0     0.000000e+00         NaN  ...   \n",
       "1777          -184000000.0     8.780000e+08        43.0  ...   \n",
       "1778          -180000000.0     9.580000e+08        81.0  ...   \n",
       "1779          -224000000.0     1.012000e+09        65.0  ...   \n",
       "1780          -216000000.0     1.024000e+09        65.0  ...   \n",
       "\n",
       "      Total Current Assets  Total Current Liabilities  Total Equity  \\\n",
       "1776          0.000000e+00               0.000000e+00  7.507519e+09   \n",
       "1777          3.357000e+09               1.415000e+09  9.400000e+08   \n",
       "1778          3.465000e+09               1.086000e+09  1.311000e+09   \n",
       "1779          3.830000e+09               1.781000e+09  1.068000e+09   \n",
       "1780          3.390000e+09               1.117000e+09  1.487000e+09   \n",
       "\n",
       "      Total Liabilities  Total Liabilities & Equity  Total Revenue  \\\n",
       "1776       5.216201e+10                5.966952e+10   2.210591e+09   \n",
       "1777       5.618000e+09                6.558000e+09   4.561000e+09   \n",
       "1778       5.277000e+09                6.588000e+09   4.785000e+09   \n",
       "1779       6.845000e+09                7.913000e+09   4.765000e+09   \n",
       "1780       6.162000e+09                7.649000e+09   4.888000e+09   \n",
       "\n",
       "      Treasury Stock  For Year  Earnings Per Share  \\\n",
       "1776             0.0    2015.0                1.20   \n",
       "1777             0.0    2013.0                1.01   \n",
       "1778             0.0    2014.0                1.16   \n",
       "1779    -203000000.0    2015.0                0.68   \n",
       "1780    -421000000.0       NaN                 NaN   \n",
       "\n",
       "      Estimated Shares Outstanding  \n",
       "1776                  2.578925e+08  \n",
       "1777                  4.990099e+08  \n",
       "1778                  5.025862e+08  \n",
       "1779                  4.985294e+08  \n",
       "1780                           NaN  \n",
       "\n",
       "[5 rows x 79 columns]"
      ]
     },
     "execution_count": 40,
     "metadata": {},
     "output_type": "execute_result"
    }
   ],
   "source": [
    "df.tail()"
   ]
  },
  {
   "cell_type": "markdown",
   "id": "2bc62362-d779-45f8-86d0-12b93f77f9a5",
   "metadata": {},
   "source": [
    "**Observation: Although the format of the data seems to be consistent at both ends of the dataset, there are NaN values which may interfere with data analysis and should be looked at more closely for each case if needed to answer the questions.**"
   ]
  },
  {
   "cell_type": "markdown",
   "id": "ee9ee8e5-a73d-4cea-ae09-a9bf1eaa5988",
   "metadata": {},
   "source": [
    "*Looking at all the columns and their names so that they are more readable*"
   ]
  },
  {
   "cell_type": "code",
   "execution_count": 12,
   "id": "9c7cb024-6729-46eb-a12e-8a01d5cefb52",
   "metadata": {},
   "outputs": [
    {
     "data": {
      "text/plain": [
       "Index(['Unnamed: 0', 'Ticker Symbol', 'Period Ending', 'Accounts Payable',\n",
       "       'Accounts Receivable', 'Add'l income/expense items', 'After Tax ROE',\n",
       "       'Capital Expenditures', 'Capital Surplus', 'Cash Ratio',\n",
       "       'Cash and Cash Equivalents', 'Changes in Inventories', 'Common Stocks',\n",
       "       'Cost of Revenue', 'Current Ratio', 'Deferred Asset Charges',\n",
       "       'Deferred Liability Charges', 'Depreciation',\n",
       "       'Earnings Before Interest and Tax', 'Earnings Before Tax',\n",
       "       'Effect of Exchange Rate',\n",
       "       'Equity Earnings/Loss Unconsolidated Subsidiary', 'Fixed Assets',\n",
       "       'Goodwill', 'Gross Margin', 'Gross Profit', 'Income Tax',\n",
       "       'Intangible Assets', 'Interest Expense', 'Inventory', 'Investments',\n",
       "       'Liabilities', 'Long-Term Debt', 'Long-Term Investments',\n",
       "       'Minority Interest', 'Misc. Stocks', 'Net Borrowings', 'Net Cash Flow',\n",
       "       'Net Cash Flow-Operating', 'Net Cash Flows-Financing',\n",
       "       'Net Cash Flows-Investing', 'Net Income', 'Net Income Adjustments',\n",
       "       'Net Income Applicable to Common Shareholders',\n",
       "       'Net Income-Cont. Operations', 'Net Receivables', 'Non-Recurring Items',\n",
       "       'Operating Income', 'Operating Margin', 'Other Assets',\n",
       "       'Other Current Assets', 'Other Current Liabilities', 'Other Equity',\n",
       "       'Other Financing Activities', 'Other Investing Activities',\n",
       "       'Other Liabilities', 'Other Operating Activities',\n",
       "       'Other Operating Items', 'Pre-Tax Margin', 'Pre-Tax ROE',\n",
       "       'Profit Margin', 'Quick Ratio', 'Research and Development',\n",
       "       'Retained Earnings', 'Sale and Purchase of Stock',\n",
       "       'Sales, General and Admin.',\n",
       "       'Short-Term Debt / Current Portion of Long-Term Debt',\n",
       "       'Short-Term Investments', 'Total Assets', 'Total Current Assets',\n",
       "       'Total Current Liabilities', 'Total Equity', 'Total Liabilities',\n",
       "       'Total Liabilities & Equity', 'Total Revenue', 'Treasury Stock',\n",
       "       'For Year', 'Earnings Per Share', 'Estimated Shares Outstanding'],\n",
       "      dtype='object')"
      ]
     },
     "execution_count": 12,
     "metadata": {},
     "output_type": "execute_result"
    }
   ],
   "source": [
    "df.columns"
   ]
  },
  {
   "cell_type": "markdown",
   "id": "8df737f8-229b-49e2-b137-560b9eb804cd",
   "metadata": {},
   "source": [
    "**Observation: There are many columns that will not need to be used, so several columns should be removed when the dataset is cleaned. The column names might also be shortened.**"
   ]
  },
  {
   "cell_type": "markdown",
   "id": "da092c90-e746-4625-92ea-44a5e63402f0",
   "metadata": {},
   "source": [
    "*Looking at how many columns and rows there are in the dataset*"
   ]
  },
  {
   "cell_type": "code",
   "execution_count": 13,
   "id": "58d977d6-1da9-4496-a4fa-4c6c79a41d74",
   "metadata": {},
   "outputs": [
    {
     "data": {
      "text/plain": [
       "(1781, 79)"
      ]
     },
     "execution_count": 13,
     "metadata": {},
     "output_type": "execute_result"
    }
   ],
   "source": [
    "df.shape"
   ]
  },
  {
   "cell_type": "markdown",
   "id": "25523e03-3228-47fd-b7e5-e1ecd509dc93",
   "metadata": {},
   "source": [
    "*Looking at what data type each column in the dataset is*"
   ]
  },
  {
   "cell_type": "code",
   "execution_count": 14,
   "id": "43ddf4c1-2526-41d6-a321-bb5d1aa2c56f",
   "metadata": {},
   "outputs": [
    {
     "data": {
      "text/plain": [
       "Unnamed: 0                        int64\n",
       "Ticker Symbol                    object\n",
       "Period Ending                    object\n",
       "Accounts Payable                float64\n",
       "Accounts Receivable             float64\n",
       "                                 ...   \n",
       "Total Revenue                   float64\n",
       "Treasury Stock                  float64\n",
       "For Year                        float64\n",
       "Earnings Per Share              float64\n",
       "Estimated Shares Outstanding    float64\n",
       "Length: 79, dtype: object"
      ]
     },
     "execution_count": 14,
     "metadata": {},
     "output_type": "execute_result"
    }
   ],
   "source": [
    "df.dtypes"
   ]
  },
  {
   "cell_type": "markdown",
   "id": "4135f402-cd8e-49e9-8d2e-7894faedd415",
   "metadata": {},
   "source": [
    "**Observation: Most columns with numerical data are float.**"
   ]
  },
  {
   "cell_type": "markdown",
   "id": "885cb663-3f1e-4bec-a1e4-06f59be07e28",
   "metadata": {},
   "source": [
    "*Looking at a smaller sample of what a row looks like in the dataset*"
   ]
  },
  {
   "cell_type": "code",
   "execution_count": 15,
   "id": "5491d58a-747c-43c3-bcca-5a0f59f0111b",
   "metadata": {},
   "outputs": [
    {
     "data": {
      "text/html": [
       "<div>\n",
       "<style scoped>\n",
       "    .dataframe tbody tr th:only-of-type {\n",
       "        vertical-align: middle;\n",
       "    }\n",
       "\n",
       "    .dataframe tbody tr th {\n",
       "        vertical-align: top;\n",
       "    }\n",
       "\n",
       "    .dataframe thead th {\n",
       "        text-align: right;\n",
       "    }\n",
       "</style>\n",
       "<table border=\"1\" class=\"dataframe\">\n",
       "  <thead>\n",
       "    <tr style=\"text-align: right;\">\n",
       "      <th></th>\n",
       "      <th>Unnamed: 0</th>\n",
       "      <th>Ticker Symbol</th>\n",
       "      <th>Period Ending</th>\n",
       "      <th>Accounts Payable</th>\n",
       "      <th>Accounts Receivable</th>\n",
       "      <th>Add'l income/expense items</th>\n",
       "      <th>After Tax ROE</th>\n",
       "      <th>Capital Expenditures</th>\n",
       "      <th>Capital Surplus</th>\n",
       "      <th>Cash Ratio</th>\n",
       "      <th>...</th>\n",
       "      <th>Total Current Assets</th>\n",
       "      <th>Total Current Liabilities</th>\n",
       "      <th>Total Equity</th>\n",
       "      <th>Total Liabilities</th>\n",
       "      <th>Total Liabilities &amp; Equity</th>\n",
       "      <th>Total Revenue</th>\n",
       "      <th>Treasury Stock</th>\n",
       "      <th>For Year</th>\n",
       "      <th>Earnings Per Share</th>\n",
       "      <th>Estimated Shares Outstanding</th>\n",
       "    </tr>\n",
       "  </thead>\n",
       "  <tbody>\n",
       "    <tr>\n",
       "      <th>762</th>\n",
       "      <td>762</td>\n",
       "      <td>HD</td>\n",
       "      <td>2015-02-01</td>\n",
       "      <td>9.473000e+09</td>\n",
       "      <td>-81000000.0</td>\n",
       "      <td>337000000.0</td>\n",
       "      <td>68.0</td>\n",
       "      <td>-1.442000e+09</td>\n",
       "      <td>8.885000e+09</td>\n",
       "      <td>15.0</td>\n",
       "      <td>...</td>\n",
       "      <td>1.530200e+10</td>\n",
       "      <td>1.126900e+10</td>\n",
       "      <td>9.322000e+09</td>\n",
       "      <td>3.062400e+10</td>\n",
       "      <td>3.994600e+10</td>\n",
       "      <td>8.317600e+10</td>\n",
       "      <td>-2.619400e+10</td>\n",
       "      <td>2014.0</td>\n",
       "      <td>4.74</td>\n",
       "      <td>1.338608e+09</td>\n",
       "    </tr>\n",
       "  </tbody>\n",
       "</table>\n",
       "<p>1 rows × 79 columns</p>\n",
       "</div>"
      ],
      "text/plain": [
       "     Unnamed: 0 Ticker Symbol Period Ending  Accounts Payable  \\\n",
       "762         762            HD    2015-02-01      9.473000e+09   \n",
       "\n",
       "     Accounts Receivable  Add'l income/expense items  After Tax ROE  \\\n",
       "762          -81000000.0                 337000000.0           68.0   \n",
       "\n",
       "     Capital Expenditures  Capital Surplus  Cash Ratio  ...  \\\n",
       "762         -1.442000e+09     8.885000e+09        15.0  ...   \n",
       "\n",
       "     Total Current Assets  Total Current Liabilities  Total Equity  \\\n",
       "762          1.530200e+10               1.126900e+10  9.322000e+09   \n",
       "\n",
       "     Total Liabilities  Total Liabilities & Equity  Total Revenue  \\\n",
       "762       3.062400e+10                3.994600e+10   8.317600e+10   \n",
       "\n",
       "     Treasury Stock  For Year  Earnings Per Share  \\\n",
       "762   -2.619400e+10    2014.0                4.74   \n",
       "\n",
       "     Estimated Shares Outstanding  \n",
       "762                  1.338608e+09  \n",
       "\n",
       "[1 rows x 79 columns]"
      ]
     },
     "execution_count": 15,
     "metadata": {},
     "output_type": "execute_result"
    }
   ],
   "source": [
    "df.sample()"
   ]
  },
  {
   "cell_type": "markdown",
   "id": "48a7e13e-fde9-4cd1-9388-c24c0a680b1b",
   "metadata": {},
   "source": [
    "*Looking at general info summary of the dataset in a more readable format*"
   ]
  },
  {
   "cell_type": "code",
   "execution_count": 41,
   "id": "f551af7a-e75f-407b-a70c-86dd0945bf4c",
   "metadata": {},
   "outputs": [
    {
     "name": "stdout",
     "output_type": "stream",
     "text": [
      "<class 'pandas.core.frame.DataFrame'>\n",
      "RangeIndex: 1781 entries, 0 to 1780\n",
      "Data columns (total 79 columns):\n",
      " #   Column                                               Non-Null Count  Dtype  \n",
      "---  ------                                               --------------  -----  \n",
      " 0   Unnamed: 0                                           1781 non-null   int64  \n",
      " 1   Ticker Symbol                                        1781 non-null   object \n",
      " 2   Period Ending                                        1781 non-null   object \n",
      " 3   Accounts Payable                                     1781 non-null   float64\n",
      " 4   Accounts Receivable                                  1781 non-null   float64\n",
      " 5   Add'l income/expense items                           1781 non-null   float64\n",
      " 6   After Tax ROE                                        1781 non-null   float64\n",
      " 7   Capital Expenditures                                 1781 non-null   float64\n",
      " 8   Capital Surplus                                      1781 non-null   float64\n",
      " 9   Cash Ratio                                           1482 non-null   float64\n",
      " 10  Cash and Cash Equivalents                            1781 non-null   float64\n",
      " 11  Changes in Inventories                               1781 non-null   float64\n",
      " 12  Common Stocks                                        1781 non-null   float64\n",
      " 13  Cost of Revenue                                      1781 non-null   float64\n",
      " 14  Current Ratio                                        1482 non-null   float64\n",
      " 15  Deferred Asset Charges                               1781 non-null   float64\n",
      " 16  Deferred Liability Charges                           1781 non-null   float64\n",
      " 17  Depreciation                                         1781 non-null   float64\n",
      " 18  Earnings Before Interest and Tax                     1781 non-null   float64\n",
      " 19  Earnings Before Tax                                  1781 non-null   float64\n",
      " 20  Effect of Exchange Rate                              1781 non-null   float64\n",
      " 21  Equity Earnings/Loss Unconsolidated Subsidiary       1781 non-null   float64\n",
      " 22  Fixed Assets                                         1781 non-null   float64\n",
      " 23  Goodwill                                             1781 non-null   float64\n",
      " 24  Gross Margin                                         1781 non-null   float64\n",
      " 25  Gross Profit                                         1781 non-null   float64\n",
      " 26  Income Tax                                           1781 non-null   float64\n",
      " 27  Intangible Assets                                    1781 non-null   float64\n",
      " 28  Interest Expense                                     1781 non-null   float64\n",
      " 29  Inventory                                            1781 non-null   float64\n",
      " 30  Investments                                          1781 non-null   float64\n",
      " 31  Liabilities                                          1781 non-null   float64\n",
      " 32  Long-Term Debt                                       1781 non-null   float64\n",
      " 33  Long-Term Investments                                1781 non-null   float64\n",
      " 34  Minority Interest                                    1781 non-null   float64\n",
      " 35  Misc. Stocks                                         1781 non-null   float64\n",
      " 36  Net Borrowings                                       1781 non-null   float64\n",
      " 37  Net Cash Flow                                        1781 non-null   float64\n",
      " 38  Net Cash Flow-Operating                              1781 non-null   float64\n",
      " 39  Net Cash Flows-Financing                             1781 non-null   float64\n",
      " 40  Net Cash Flows-Investing                             1781 non-null   float64\n",
      " 41  Net Income                                           1781 non-null   float64\n",
      " 42  Net Income Adjustments                               1781 non-null   float64\n",
      " 43  Net Income Applicable to Common Shareholders         1781 non-null   float64\n",
      " 44  Net Income-Cont. Operations                          1781 non-null   float64\n",
      " 45  Net Receivables                                      1781 non-null   float64\n",
      " 46  Non-Recurring Items                                  1781 non-null   float64\n",
      " 47  Operating Income                                     1781 non-null   float64\n",
      " 48  Operating Margin                                     1781 non-null   float64\n",
      " 49  Other Assets                                         1781 non-null   float64\n",
      " 50  Other Current Assets                                 1781 non-null   float64\n",
      " 51  Other Current Liabilities                            1781 non-null   float64\n",
      " 52  Other Equity                                         1781 non-null   float64\n",
      " 53  Other Financing Activities                           1781 non-null   float64\n",
      " 54  Other Investing Activities                           1781 non-null   float64\n",
      " 55  Other Liabilities                                    1781 non-null   float64\n",
      " 56  Other Operating Activities                           1781 non-null   float64\n",
      " 57  Other Operating Items                                1781 non-null   float64\n",
      " 58  Pre-Tax Margin                                       1781 non-null   float64\n",
      " 59  Pre-Tax ROE                                          1781 non-null   float64\n",
      " 60  Profit Margin                                        1781 non-null   float64\n",
      " 61  Quick Ratio                                          1482 non-null   float64\n",
      " 62  Research and Development                             1781 non-null   float64\n",
      " 63  Retained Earnings                                    1781 non-null   float64\n",
      " 64  Sale and Purchase of Stock                           1781 non-null   float64\n",
      " 65  Sales, General and Admin.                            1781 non-null   float64\n",
      " 66  Short-Term Debt / Current Portion of Long-Term Debt  1781 non-null   float64\n",
      " 67  Short-Term Investments                               1781 non-null   float64\n",
      " 68  Total Assets                                         1781 non-null   float64\n",
      " 69  Total Current Assets                                 1781 non-null   float64\n",
      " 70  Total Current Liabilities                            1781 non-null   float64\n",
      " 71  Total Equity                                         1781 non-null   float64\n",
      " 72  Total Liabilities                                    1781 non-null   float64\n",
      " 73  Total Liabilities & Equity                           1781 non-null   float64\n",
      " 74  Total Revenue                                        1781 non-null   float64\n",
      " 75  Treasury Stock                                       1781 non-null   float64\n",
      " 76  For Year                                             1608 non-null   float64\n",
      " 77  Earnings Per Share                                   1562 non-null   float64\n",
      " 78  Estimated Shares Outstanding                         1562 non-null   float64\n",
      "dtypes: float64(76), int64(1), object(2)\n",
      "memory usage: 1.1+ MB\n"
     ]
    }
   ],
   "source": [
    "df.info()"
   ]
  },
  {
   "cell_type": "markdown",
   "id": "06e53f91-f82e-46a5-9694-10db07a501b2",
   "metadata": {},
   "source": [
    "             "
   ]
  },
  {
   "cell_type": "markdown",
   "id": "99f1490d-ce75-46fe-a56a-73035bc0cdc2",
   "metadata": {},
   "source": [
    "### Dataset 2: \"Securities\""
   ]
  },
  {
   "cell_type": "markdown",
   "id": "5b7c79a0-0028-42d8-8ca8-6e102d27ca2b",
   "metadata": {},
   "source": [
    "*Repeating the same exploratory analysis functions as in dataset 1*"
   ]
  },
  {
   "cell_type": "code",
   "execution_count": 16,
   "id": "4982ff40-4470-487c-bef6-7adb656ccf11",
   "metadata": {},
   "outputs": [],
   "source": [
    "df2 = pd.read_csv('C:\\\\Users\\\\Elizabeth\\\\Downloads\\\\securities.csv')"
   ]
  },
  {
   "cell_type": "code",
   "execution_count": 18,
   "id": "7acbbaf8-250d-4fc8-8172-41ff07fd5655",
   "metadata": {},
   "outputs": [
    {
     "data": {
      "text/html": [
       "<div>\n",
       "<style scoped>\n",
       "    .dataframe tbody tr th:only-of-type {\n",
       "        vertical-align: middle;\n",
       "    }\n",
       "\n",
       "    .dataframe tbody tr th {\n",
       "        vertical-align: top;\n",
       "    }\n",
       "\n",
       "    .dataframe thead th {\n",
       "        text-align: right;\n",
       "    }\n",
       "</style>\n",
       "<table border=\"1\" class=\"dataframe\">\n",
       "  <thead>\n",
       "    <tr style=\"text-align: right;\">\n",
       "      <th></th>\n",
       "      <th>Ticker symbol</th>\n",
       "      <th>Security</th>\n",
       "      <th>SEC filings</th>\n",
       "      <th>GICS Sector</th>\n",
       "      <th>GICS Sub Industry</th>\n",
       "      <th>Address of Headquarters</th>\n",
       "      <th>Date first added</th>\n",
       "      <th>CIK</th>\n",
       "    </tr>\n",
       "  </thead>\n",
       "  <tbody>\n",
       "    <tr>\n",
       "      <th>0</th>\n",
       "      <td>MMM</td>\n",
       "      <td>3M Company</td>\n",
       "      <td>reports</td>\n",
       "      <td>Industrials</td>\n",
       "      <td>Industrial Conglomerates</td>\n",
       "      <td>St. Paul, Minnesota</td>\n",
       "      <td>NaN</td>\n",
       "      <td>66740</td>\n",
       "    </tr>\n",
       "    <tr>\n",
       "      <th>1</th>\n",
       "      <td>ABT</td>\n",
       "      <td>Abbott Laboratories</td>\n",
       "      <td>reports</td>\n",
       "      <td>Health Care</td>\n",
       "      <td>Health Care Equipment</td>\n",
       "      <td>North Chicago, Illinois</td>\n",
       "      <td>1964-03-31</td>\n",
       "      <td>1800</td>\n",
       "    </tr>\n",
       "    <tr>\n",
       "      <th>2</th>\n",
       "      <td>ABBV</td>\n",
       "      <td>AbbVie</td>\n",
       "      <td>reports</td>\n",
       "      <td>Health Care</td>\n",
       "      <td>Pharmaceuticals</td>\n",
       "      <td>North Chicago, Illinois</td>\n",
       "      <td>2012-12-31</td>\n",
       "      <td>1551152</td>\n",
       "    </tr>\n",
       "    <tr>\n",
       "      <th>3</th>\n",
       "      <td>ACN</td>\n",
       "      <td>Accenture plc</td>\n",
       "      <td>reports</td>\n",
       "      <td>Information Technology</td>\n",
       "      <td>IT Consulting &amp; Other Services</td>\n",
       "      <td>Dublin, Ireland</td>\n",
       "      <td>2011-07-06</td>\n",
       "      <td>1467373</td>\n",
       "    </tr>\n",
       "    <tr>\n",
       "      <th>4</th>\n",
       "      <td>ATVI</td>\n",
       "      <td>Activision Blizzard</td>\n",
       "      <td>reports</td>\n",
       "      <td>Information Technology</td>\n",
       "      <td>Home Entertainment Software</td>\n",
       "      <td>Santa Monica, California</td>\n",
       "      <td>2015-08-31</td>\n",
       "      <td>718877</td>\n",
       "    </tr>\n",
       "  </tbody>\n",
       "</table>\n",
       "</div>"
      ],
      "text/plain": [
       "  Ticker symbol             Security SEC filings             GICS Sector  \\\n",
       "0           MMM           3M Company     reports             Industrials   \n",
       "1           ABT  Abbott Laboratories     reports             Health Care   \n",
       "2          ABBV               AbbVie     reports             Health Care   \n",
       "3           ACN        Accenture plc     reports  Information Technology   \n",
       "4          ATVI  Activision Blizzard     reports  Information Technology   \n",
       "\n",
       "                GICS Sub Industry   Address of Headquarters Date first added  \\\n",
       "0        Industrial Conglomerates       St. Paul, Minnesota              NaN   \n",
       "1           Health Care Equipment   North Chicago, Illinois       1964-03-31   \n",
       "2                 Pharmaceuticals   North Chicago, Illinois       2012-12-31   \n",
       "3  IT Consulting & Other Services           Dublin, Ireland       2011-07-06   \n",
       "4     Home Entertainment Software  Santa Monica, California       2015-08-31   \n",
       "\n",
       "       CIK  \n",
       "0    66740  \n",
       "1     1800  \n",
       "2  1551152  \n",
       "3  1467373  \n",
       "4   718877  "
      ]
     },
     "execution_count": 18,
     "metadata": {},
     "output_type": "execute_result"
    }
   ],
   "source": [
    "df2.head()"
   ]
  },
  {
   "cell_type": "code",
   "execution_count": 19,
   "id": "2e37a967-22cc-4d34-a166-e6dcc689a05a",
   "metadata": {},
   "outputs": [
    {
     "data": {
      "text/html": [
       "<div>\n",
       "<style scoped>\n",
       "    .dataframe tbody tr th:only-of-type {\n",
       "        vertical-align: middle;\n",
       "    }\n",
       "\n",
       "    .dataframe tbody tr th {\n",
       "        vertical-align: top;\n",
       "    }\n",
       "\n",
       "    .dataframe thead th {\n",
       "        text-align: right;\n",
       "    }\n",
       "</style>\n",
       "<table border=\"1\" class=\"dataframe\">\n",
       "  <thead>\n",
       "    <tr style=\"text-align: right;\">\n",
       "      <th></th>\n",
       "      <th>Ticker symbol</th>\n",
       "      <th>Security</th>\n",
       "      <th>SEC filings</th>\n",
       "      <th>GICS Sector</th>\n",
       "      <th>GICS Sub Industry</th>\n",
       "      <th>Address of Headquarters</th>\n",
       "      <th>Date first added</th>\n",
       "      <th>CIK</th>\n",
       "    </tr>\n",
       "  </thead>\n",
       "  <tbody>\n",
       "    <tr>\n",
       "      <th>500</th>\n",
       "      <td>YHOO</td>\n",
       "      <td>Yahoo Inc.</td>\n",
       "      <td>reports</td>\n",
       "      <td>Information Technology</td>\n",
       "      <td>Internet Software &amp; Services</td>\n",
       "      <td>Sunnyvale, California</td>\n",
       "      <td>NaN</td>\n",
       "      <td>1011006</td>\n",
       "    </tr>\n",
       "    <tr>\n",
       "      <th>501</th>\n",
       "      <td>YUM</td>\n",
       "      <td>Yum! Brands Inc</td>\n",
       "      <td>reports</td>\n",
       "      <td>Consumer Discretionary</td>\n",
       "      <td>Restaurants</td>\n",
       "      <td>Louisville, Kentucky</td>\n",
       "      <td>1997-10-06</td>\n",
       "      <td>1041061</td>\n",
       "    </tr>\n",
       "    <tr>\n",
       "      <th>502</th>\n",
       "      <td>ZBH</td>\n",
       "      <td>Zimmer Biomet Holdings</td>\n",
       "      <td>reports</td>\n",
       "      <td>Health Care</td>\n",
       "      <td>Health Care Equipment</td>\n",
       "      <td>Warsaw, Indiana</td>\n",
       "      <td>NaN</td>\n",
       "      <td>1136869</td>\n",
       "    </tr>\n",
       "    <tr>\n",
       "      <th>503</th>\n",
       "      <td>ZION</td>\n",
       "      <td>Zions Bancorp</td>\n",
       "      <td>reports</td>\n",
       "      <td>Financials</td>\n",
       "      <td>Regional Banks</td>\n",
       "      <td>Salt Lake City, Utah</td>\n",
       "      <td>NaN</td>\n",
       "      <td>109380</td>\n",
       "    </tr>\n",
       "    <tr>\n",
       "      <th>504</th>\n",
       "      <td>ZTS</td>\n",
       "      <td>Zoetis</td>\n",
       "      <td>reports</td>\n",
       "      <td>Health Care</td>\n",
       "      <td>Pharmaceuticals</td>\n",
       "      <td>Florham Park, New Jersey</td>\n",
       "      <td>2013-06-21</td>\n",
       "      <td>1555280</td>\n",
       "    </tr>\n",
       "  </tbody>\n",
       "</table>\n",
       "</div>"
      ],
      "text/plain": [
       "    Ticker symbol                Security SEC filings             GICS Sector  \\\n",
       "500          YHOO              Yahoo Inc.     reports  Information Technology   \n",
       "501           YUM         Yum! Brands Inc     reports  Consumer Discretionary   \n",
       "502           ZBH  Zimmer Biomet Holdings     reports             Health Care   \n",
       "503          ZION           Zions Bancorp     reports              Financials   \n",
       "504           ZTS                  Zoetis     reports             Health Care   \n",
       "\n",
       "                GICS Sub Industry   Address of Headquarters Date first added  \\\n",
       "500  Internet Software & Services     Sunnyvale, California              NaN   \n",
       "501                   Restaurants      Louisville, Kentucky       1997-10-06   \n",
       "502         Health Care Equipment           Warsaw, Indiana              NaN   \n",
       "503                Regional Banks      Salt Lake City, Utah              NaN   \n",
       "504               Pharmaceuticals  Florham Park, New Jersey       2013-06-21   \n",
       "\n",
       "         CIK  \n",
       "500  1011006  \n",
       "501  1041061  \n",
       "502  1136869  \n",
       "503   109380  \n",
       "504  1555280  "
      ]
     },
     "execution_count": 19,
     "metadata": {},
     "output_type": "execute_result"
    }
   ],
   "source": [
    "df2.tail()"
   ]
  },
  {
   "cell_type": "markdown",
   "id": "38b4ae72-8d22-4d1a-b7bb-76806a49b446",
   "metadata": {},
   "source": [
    "**Observation: There are some NaN values in both the head and tail of this dataset, which might need to be looked at more closely for data cleaning if they will be needed to answer the questions.**"
   ]
  },
  {
   "cell_type": "code",
   "execution_count": 20,
   "id": "1429e99e-17e1-469f-8bfd-759c7075dd84",
   "metadata": {},
   "outputs": [
    {
     "data": {
      "text/plain": [
       "Index(['Ticker symbol', 'Security', 'SEC filings', 'GICS Sector',\n",
       "       'GICS Sub Industry', 'Address of Headquarters', 'Date first added',\n",
       "       'CIK'],\n",
       "      dtype='object')"
      ]
     },
     "execution_count": 20,
     "metadata": {},
     "output_type": "execute_result"
    }
   ],
   "source": [
    "df2.columns"
   ]
  },
  {
   "cell_type": "markdown",
   "id": "ca8cedc8-8c9b-4d8d-a297-da26e68656c7",
   "metadata": {},
   "source": [
    "**Observation: These columns might need to be renamed so that it could be more easily understood what the columns show.**"
   ]
  },
  {
   "cell_type": "code",
   "execution_count": 21,
   "id": "6b030746-5dac-4afb-b774-39493431bd5b",
   "metadata": {},
   "outputs": [
    {
     "data": {
      "text/plain": [
       "(505, 8)"
      ]
     },
     "execution_count": 21,
     "metadata": {},
     "output_type": "execute_result"
    }
   ],
   "source": [
    "df2.shape"
   ]
  },
  {
   "cell_type": "code",
   "execution_count": 22,
   "id": "cc3bdac4-13dc-4190-85a5-77f5f85f6681",
   "metadata": {},
   "outputs": [
    {
     "data": {
      "text/plain": [
       "Ticker symbol              object\n",
       "Security                   object\n",
       "SEC filings                object\n",
       "GICS Sector                object\n",
       "GICS Sub Industry          object\n",
       "Address of Headquarters    object\n",
       "Date first added           object\n",
       "CIK                         int64\n",
       "dtype: object"
      ]
     },
     "execution_count": 22,
     "metadata": {},
     "output_type": "execute_result"
    }
   ],
   "source": [
    "df2.dtypes"
   ]
  },
  {
   "cell_type": "markdown",
   "id": "82873e0c-f357-411a-90a7-d5f1bb834751",
   "metadata": {},
   "source": [
    "**Observation: Most of the columns are object types except the CIK column (that holds numerical data) which is an int type.**"
   ]
  },
  {
   "cell_type": "code",
   "execution_count": 23,
   "id": "e9bd866a-9934-486d-b820-ee23f466e8e3",
   "metadata": {},
   "outputs": [
    {
     "data": {
      "text/html": [
       "<div>\n",
       "<style scoped>\n",
       "    .dataframe tbody tr th:only-of-type {\n",
       "        vertical-align: middle;\n",
       "    }\n",
       "\n",
       "    .dataframe tbody tr th {\n",
       "        vertical-align: top;\n",
       "    }\n",
       "\n",
       "    .dataframe thead th {\n",
       "        text-align: right;\n",
       "    }\n",
       "</style>\n",
       "<table border=\"1\" class=\"dataframe\">\n",
       "  <thead>\n",
       "    <tr style=\"text-align: right;\">\n",
       "      <th></th>\n",
       "      <th>Ticker symbol</th>\n",
       "      <th>Security</th>\n",
       "      <th>SEC filings</th>\n",
       "      <th>GICS Sector</th>\n",
       "      <th>GICS Sub Industry</th>\n",
       "      <th>Address of Headquarters</th>\n",
       "      <th>Date first added</th>\n",
       "      <th>CIK</th>\n",
       "    </tr>\n",
       "  </thead>\n",
       "  <tbody>\n",
       "    <tr>\n",
       "      <th>340</th>\n",
       "      <td>ORLY</td>\n",
       "      <td>O'Reilly Automotive</td>\n",
       "      <td>reports</td>\n",
       "      <td>Consumer Discretionary</td>\n",
       "      <td>Specialty Stores</td>\n",
       "      <td>Springfield, Missouri</td>\n",
       "      <td>2009-03-27</td>\n",
       "      <td>898173</td>\n",
       "    </tr>\n",
       "  </tbody>\n",
       "</table>\n",
       "</div>"
      ],
      "text/plain": [
       "    Ticker symbol             Security SEC filings             GICS Sector  \\\n",
       "340          ORLY  O'Reilly Automotive     reports  Consumer Discretionary   \n",
       "\n",
       "    GICS Sub Industry Address of Headquarters Date first added     CIK  \n",
       "340  Specialty Stores   Springfield, Missouri       2009-03-27  898173  "
      ]
     },
     "execution_count": 23,
     "metadata": {},
     "output_type": "execute_result"
    }
   ],
   "source": [
    "df2.sample()"
   ]
  },
  {
   "cell_type": "code",
   "execution_count": 42,
   "id": "0cf08110-ecdb-430d-9712-7cea9fc8dbce",
   "metadata": {},
   "outputs": [
    {
     "name": "stdout",
     "output_type": "stream",
     "text": [
      "<class 'pandas.core.frame.DataFrame'>\n",
      "RangeIndex: 505 entries, 0 to 504\n",
      "Data columns (total 8 columns):\n",
      " #   Column                   Non-Null Count  Dtype \n",
      "---  ------                   --------------  ----- \n",
      " 0   Ticker symbol            505 non-null    object\n",
      " 1   Security                 505 non-null    object\n",
      " 2   SEC filings              505 non-null    object\n",
      " 3   GICS Sector              505 non-null    object\n",
      " 4   GICS Sub Industry        505 non-null    object\n",
      " 5   Address of Headquarters  505 non-null    object\n",
      " 6   Date first added         307 non-null    object\n",
      " 7   CIK                      505 non-null    int64 \n",
      "dtypes: int64(1), object(7)\n",
      "memory usage: 31.7+ KB\n"
     ]
    }
   ],
   "source": [
    "df2.info()"
   ]
  },
  {
   "cell_type": "markdown",
   "id": "fe198a8f-6d6d-443c-bcae-4128839f07c1",
   "metadata": {},
   "source": [
    "### Dataset 3: \"Prices\""
   ]
  },
  {
   "cell_type": "markdown",
   "id": "9759ae6b-ff12-4d6d-85dc-bc31bf8cbfbf",
   "metadata": {},
   "source": [
    "*Repeating the same exploratory functions as in datasets 1 and 2*"
   ]
  },
  {
   "cell_type": "code",
   "execution_count": 25,
   "id": "50c9f939-99ef-459a-88f7-967fe6af5f28",
   "metadata": {},
   "outputs": [],
   "source": [
    "df3 = pd.read_csv('C:\\\\Users\\\\Elizabeth\\\\Downloads\\\\prices.csv')"
   ]
  },
  {
   "cell_type": "code",
   "execution_count": 26,
   "id": "5f6207ff-e9c5-4bbf-bfbd-f65da374a216",
   "metadata": {},
   "outputs": [
    {
     "data": {
      "text/html": [
       "<div>\n",
       "<style scoped>\n",
       "    .dataframe tbody tr th:only-of-type {\n",
       "        vertical-align: middle;\n",
       "    }\n",
       "\n",
       "    .dataframe tbody tr th {\n",
       "        vertical-align: top;\n",
       "    }\n",
       "\n",
       "    .dataframe thead th {\n",
       "        text-align: right;\n",
       "    }\n",
       "</style>\n",
       "<table border=\"1\" class=\"dataframe\">\n",
       "  <thead>\n",
       "    <tr style=\"text-align: right;\">\n",
       "      <th></th>\n",
       "      <th>date</th>\n",
       "      <th>symbol</th>\n",
       "      <th>open</th>\n",
       "      <th>close</th>\n",
       "      <th>low</th>\n",
       "      <th>high</th>\n",
       "      <th>volume</th>\n",
       "    </tr>\n",
       "  </thead>\n",
       "  <tbody>\n",
       "    <tr>\n",
       "      <th>0</th>\n",
       "      <td>2016-01-05 00:00:00</td>\n",
       "      <td>WLTW</td>\n",
       "      <td>123.430000</td>\n",
       "      <td>125.839996</td>\n",
       "      <td>122.309998</td>\n",
       "      <td>126.250000</td>\n",
       "      <td>2163600.0</td>\n",
       "    </tr>\n",
       "    <tr>\n",
       "      <th>1</th>\n",
       "      <td>2016-01-06 00:00:00</td>\n",
       "      <td>WLTW</td>\n",
       "      <td>125.239998</td>\n",
       "      <td>119.980003</td>\n",
       "      <td>119.940002</td>\n",
       "      <td>125.540001</td>\n",
       "      <td>2386400.0</td>\n",
       "    </tr>\n",
       "    <tr>\n",
       "      <th>2</th>\n",
       "      <td>2016-01-07 00:00:00</td>\n",
       "      <td>WLTW</td>\n",
       "      <td>116.379997</td>\n",
       "      <td>114.949997</td>\n",
       "      <td>114.930000</td>\n",
       "      <td>119.739998</td>\n",
       "      <td>2489500.0</td>\n",
       "    </tr>\n",
       "    <tr>\n",
       "      <th>3</th>\n",
       "      <td>2016-01-08 00:00:00</td>\n",
       "      <td>WLTW</td>\n",
       "      <td>115.480003</td>\n",
       "      <td>116.620003</td>\n",
       "      <td>113.500000</td>\n",
       "      <td>117.440002</td>\n",
       "      <td>2006300.0</td>\n",
       "    </tr>\n",
       "    <tr>\n",
       "      <th>4</th>\n",
       "      <td>2016-01-11 00:00:00</td>\n",
       "      <td>WLTW</td>\n",
       "      <td>117.010002</td>\n",
       "      <td>114.970001</td>\n",
       "      <td>114.089996</td>\n",
       "      <td>117.330002</td>\n",
       "      <td>1408600.0</td>\n",
       "    </tr>\n",
       "  </tbody>\n",
       "</table>\n",
       "</div>"
      ],
      "text/plain": [
       "                  date symbol        open       close         low        high  \\\n",
       "0  2016-01-05 00:00:00   WLTW  123.430000  125.839996  122.309998  126.250000   \n",
       "1  2016-01-06 00:00:00   WLTW  125.239998  119.980003  119.940002  125.540001   \n",
       "2  2016-01-07 00:00:00   WLTW  116.379997  114.949997  114.930000  119.739998   \n",
       "3  2016-01-08 00:00:00   WLTW  115.480003  116.620003  113.500000  117.440002   \n",
       "4  2016-01-11 00:00:00   WLTW  117.010002  114.970001  114.089996  117.330002   \n",
       "\n",
       "      volume  \n",
       "0  2163600.0  \n",
       "1  2386400.0  \n",
       "2  2489500.0  \n",
       "3  2006300.0  \n",
       "4  1408600.0  "
      ]
     },
     "execution_count": 26,
     "metadata": {},
     "output_type": "execute_result"
    }
   ],
   "source": [
    "df3.head()"
   ]
  },
  {
   "cell_type": "code",
   "execution_count": 27,
   "id": "95c14501-41b8-4bc6-ac64-bb90bb580a11",
   "metadata": {},
   "outputs": [
    {
     "data": {
      "text/html": [
       "<div>\n",
       "<style scoped>\n",
       "    .dataframe tbody tr th:only-of-type {\n",
       "        vertical-align: middle;\n",
       "    }\n",
       "\n",
       "    .dataframe tbody tr th {\n",
       "        vertical-align: top;\n",
       "    }\n",
       "\n",
       "    .dataframe thead th {\n",
       "        text-align: right;\n",
       "    }\n",
       "</style>\n",
       "<table border=\"1\" class=\"dataframe\">\n",
       "  <thead>\n",
       "    <tr style=\"text-align: right;\">\n",
       "      <th></th>\n",
       "      <th>date</th>\n",
       "      <th>symbol</th>\n",
       "      <th>open</th>\n",
       "      <th>close</th>\n",
       "      <th>low</th>\n",
       "      <th>high</th>\n",
       "      <th>volume</th>\n",
       "    </tr>\n",
       "  </thead>\n",
       "  <tbody>\n",
       "    <tr>\n",
       "      <th>851259</th>\n",
       "      <td>2016-12-30</td>\n",
       "      <td>ZBH</td>\n",
       "      <td>103.309998</td>\n",
       "      <td>103.199997</td>\n",
       "      <td>102.849998</td>\n",
       "      <td>103.930000</td>\n",
       "      <td>973800.0</td>\n",
       "    </tr>\n",
       "    <tr>\n",
       "      <th>851260</th>\n",
       "      <td>2016-12-30</td>\n",
       "      <td>ZION</td>\n",
       "      <td>43.070000</td>\n",
       "      <td>43.040001</td>\n",
       "      <td>42.689999</td>\n",
       "      <td>43.310001</td>\n",
       "      <td>1938100.0</td>\n",
       "    </tr>\n",
       "    <tr>\n",
       "      <th>851261</th>\n",
       "      <td>2016-12-30</td>\n",
       "      <td>ZTS</td>\n",
       "      <td>53.639999</td>\n",
       "      <td>53.529999</td>\n",
       "      <td>53.270000</td>\n",
       "      <td>53.740002</td>\n",
       "      <td>1701200.0</td>\n",
       "    </tr>\n",
       "    <tr>\n",
       "      <th>851262</th>\n",
       "      <td>2016-12-30 00:00:00</td>\n",
       "      <td>AIV</td>\n",
       "      <td>44.730000</td>\n",
       "      <td>45.450001</td>\n",
       "      <td>44.410000</td>\n",
       "      <td>45.590000</td>\n",
       "      <td>1380900.0</td>\n",
       "    </tr>\n",
       "    <tr>\n",
       "      <th>851263</th>\n",
       "      <td>2016-12-30 00:00:00</td>\n",
       "      <td>FTV</td>\n",
       "      <td>54.200001</td>\n",
       "      <td>53.630001</td>\n",
       "      <td>53.389999</td>\n",
       "      <td>54.480000</td>\n",
       "      <td>705100.0</td>\n",
       "    </tr>\n",
       "  </tbody>\n",
       "</table>\n",
       "</div>"
      ],
      "text/plain": [
       "                       date symbol        open       close         low  \\\n",
       "851259           2016-12-30    ZBH  103.309998  103.199997  102.849998   \n",
       "851260           2016-12-30   ZION   43.070000   43.040001   42.689999   \n",
       "851261           2016-12-30    ZTS   53.639999   53.529999   53.270000   \n",
       "851262  2016-12-30 00:00:00    AIV   44.730000   45.450001   44.410000   \n",
       "851263  2016-12-30 00:00:00    FTV   54.200001   53.630001   53.389999   \n",
       "\n",
       "              high     volume  \n",
       "851259  103.930000   973800.0  \n",
       "851260   43.310001  1938100.0  \n",
       "851261   53.740002  1701200.0  \n",
       "851262   45.590000  1380900.0  \n",
       "851263   54.480000   705100.0  "
      ]
     },
     "execution_count": 27,
     "metadata": {},
     "output_type": "execute_result"
    }
   ],
   "source": [
    "df3.tail()"
   ]
  },
  {
   "cell_type": "markdown",
   "id": "78d3e84e-614a-4c79-b2e8-ea7db14592ef",
   "metadata": {},
   "source": [
    "**Observation: There do not seem to be many NaN values and the data looks consistent at the beginning and end of the dataset.**"
   ]
  },
  {
   "cell_type": "code",
   "execution_count": 28,
   "id": "65920c76-1979-4574-8358-c6516452e55b",
   "metadata": {},
   "outputs": [
    {
     "data": {
      "text/plain": [
       "Index(['date', 'symbol', 'open', 'close', 'low', 'high', 'volume'], dtype='object')"
      ]
     },
     "execution_count": 28,
     "metadata": {},
     "output_type": "execute_result"
    }
   ],
   "source": [
    "df3.columns"
   ]
  },
  {
   "cell_type": "markdown",
   "id": "95a6ef08-80e5-45c6-9cf7-47ea217269c3",
   "metadata": {},
   "source": [
    "**Observation: These column names might need to be changed so that they are more descriptive.**"
   ]
  },
  {
   "cell_type": "code",
   "execution_count": 29,
   "id": "0f48f508-123f-43d4-be85-c30c5a347796",
   "metadata": {},
   "outputs": [
    {
     "data": {
      "text/plain": [
       "(851264, 7)"
      ]
     },
     "execution_count": 29,
     "metadata": {},
     "output_type": "execute_result"
    }
   ],
   "source": [
    "df3.shape"
   ]
  },
  {
   "cell_type": "markdown",
   "id": "1dff010a-96b0-41e0-995a-44917c310465",
   "metadata": {},
   "source": [
    "**Observation: There is much more data in this dataset than in the first two datasets, in terms of number of rows.**"
   ]
  },
  {
   "cell_type": "code",
   "execution_count": 30,
   "id": "3f40fa72-3193-451c-9252-58be5d73d67c",
   "metadata": {},
   "outputs": [
    {
     "data": {
      "text/plain": [
       "date       object\n",
       "symbol     object\n",
       "open      float64\n",
       "close     float64\n",
       "low       float64\n",
       "high      float64\n",
       "volume    float64\n",
       "dtype: object"
      ]
     },
     "execution_count": 30,
     "metadata": {},
     "output_type": "execute_result"
    }
   ],
   "source": [
    "df3.dtypes"
   ]
  },
  {
   "cell_type": "markdown",
   "id": "9fc22f72-9936-4499-ab11-d4d34fd74d94",
   "metadata": {},
   "source": [
    "**Observation: The numerical columns are float data types.**"
   ]
  },
  {
   "cell_type": "code",
   "execution_count": 31,
   "id": "207859e8-7a10-47df-8905-71ca338dc162",
   "metadata": {},
   "outputs": [
    {
     "data": {
      "text/html": [
       "<div>\n",
       "<style scoped>\n",
       "    .dataframe tbody tr th:only-of-type {\n",
       "        vertical-align: middle;\n",
       "    }\n",
       "\n",
       "    .dataframe tbody tr th {\n",
       "        vertical-align: top;\n",
       "    }\n",
       "\n",
       "    .dataframe thead th {\n",
       "        text-align: right;\n",
       "    }\n",
       "</style>\n",
       "<table border=\"1\" class=\"dataframe\">\n",
       "  <thead>\n",
       "    <tr style=\"text-align: right;\">\n",
       "      <th></th>\n",
       "      <th>date</th>\n",
       "      <th>symbol</th>\n",
       "      <th>open</th>\n",
       "      <th>close</th>\n",
       "      <th>low</th>\n",
       "      <th>high</th>\n",
       "      <th>volume</th>\n",
       "    </tr>\n",
       "  </thead>\n",
       "  <tbody>\n",
       "    <tr>\n",
       "      <th>112863</th>\n",
       "      <td>2010-12-15</td>\n",
       "      <td>CXO</td>\n",
       "      <td>82.660004</td>\n",
       "      <td>84.059998</td>\n",
       "      <td>82.519997</td>\n",
       "      <td>84.379997</td>\n",
       "      <td>1255700.0</td>\n",
       "    </tr>\n",
       "  </tbody>\n",
       "</table>\n",
       "</div>"
      ],
      "text/plain": [
       "              date symbol       open      close        low       high  \\\n",
       "112863  2010-12-15    CXO  82.660004  84.059998  82.519997  84.379997   \n",
       "\n",
       "           volume  \n",
       "112863  1255700.0  "
      ]
     },
     "execution_count": 31,
     "metadata": {},
     "output_type": "execute_result"
    }
   ],
   "source": [
    "df3.sample()"
   ]
  },
  {
   "cell_type": "code",
   "execution_count": 43,
   "id": "d985a027-9bf9-4e88-a413-0755cfa73af4",
   "metadata": {},
   "outputs": [
    {
     "name": "stdout",
     "output_type": "stream",
     "text": [
      "<class 'pandas.core.frame.DataFrame'>\n",
      "RangeIndex: 851264 entries, 0 to 851263\n",
      "Data columns (total 7 columns):\n",
      " #   Column  Non-Null Count   Dtype  \n",
      "---  ------  --------------   -----  \n",
      " 0   date    851264 non-null  object \n",
      " 1   symbol  851264 non-null  object \n",
      " 2   open    851264 non-null  float64\n",
      " 3   close   851264 non-null  float64\n",
      " 4   low     851264 non-null  float64\n",
      " 5   high    851264 non-null  float64\n",
      " 6   volume  851264 non-null  float64\n",
      "dtypes: float64(5), object(2)\n",
      "memory usage: 45.5+ MB\n"
     ]
    }
   ],
   "source": [
    "df3.info()"
   ]
  },
  {
   "cell_type": "markdown",
   "id": "2e18447d-e2bb-46b4-973d-1fde43b8d3a0",
   "metadata": {},
   "source": [
    "### Dataset 4: \"Prices-Split-Adjusted\""
   ]
  },
  {
   "cell_type": "markdown",
   "id": "4e879831-16d0-4c1f-ac05-5d8018e8e80a",
   "metadata": {},
   "source": [
    "*Repeating the same exploratory functions as in datasets 1, 2 and 3*"
   ]
  },
  {
   "cell_type": "code",
   "execution_count": 32,
   "id": "2084f37d-2ec3-4130-802c-41cecbb99ff6",
   "metadata": {},
   "outputs": [],
   "source": [
    "df4 = pd.read_csv('C:\\\\Users\\\\Elizabeth\\\\Downloads\\\\prices-split-adjusted.csv')"
   ]
  },
  {
   "cell_type": "code",
   "execution_count": 33,
   "id": "65c0965a-2629-40fc-a91a-a471ed6f5cf3",
   "metadata": {},
   "outputs": [
    {
     "data": {
      "text/html": [
       "<div>\n",
       "<style scoped>\n",
       "    .dataframe tbody tr th:only-of-type {\n",
       "        vertical-align: middle;\n",
       "    }\n",
       "\n",
       "    .dataframe tbody tr th {\n",
       "        vertical-align: top;\n",
       "    }\n",
       "\n",
       "    .dataframe thead th {\n",
       "        text-align: right;\n",
       "    }\n",
       "</style>\n",
       "<table border=\"1\" class=\"dataframe\">\n",
       "  <thead>\n",
       "    <tr style=\"text-align: right;\">\n",
       "      <th></th>\n",
       "      <th>date</th>\n",
       "      <th>symbol</th>\n",
       "      <th>open</th>\n",
       "      <th>close</th>\n",
       "      <th>low</th>\n",
       "      <th>high</th>\n",
       "      <th>volume</th>\n",
       "    </tr>\n",
       "  </thead>\n",
       "  <tbody>\n",
       "    <tr>\n",
       "      <th>0</th>\n",
       "      <td>2016-01-05</td>\n",
       "      <td>WLTW</td>\n",
       "      <td>123.430000</td>\n",
       "      <td>125.839996</td>\n",
       "      <td>122.309998</td>\n",
       "      <td>126.250000</td>\n",
       "      <td>2163600.0</td>\n",
       "    </tr>\n",
       "    <tr>\n",
       "      <th>1</th>\n",
       "      <td>2016-01-06</td>\n",
       "      <td>WLTW</td>\n",
       "      <td>125.239998</td>\n",
       "      <td>119.980003</td>\n",
       "      <td>119.940002</td>\n",
       "      <td>125.540001</td>\n",
       "      <td>2386400.0</td>\n",
       "    </tr>\n",
       "    <tr>\n",
       "      <th>2</th>\n",
       "      <td>2016-01-07</td>\n",
       "      <td>WLTW</td>\n",
       "      <td>116.379997</td>\n",
       "      <td>114.949997</td>\n",
       "      <td>114.930000</td>\n",
       "      <td>119.739998</td>\n",
       "      <td>2489500.0</td>\n",
       "    </tr>\n",
       "    <tr>\n",
       "      <th>3</th>\n",
       "      <td>2016-01-08</td>\n",
       "      <td>WLTW</td>\n",
       "      <td>115.480003</td>\n",
       "      <td>116.620003</td>\n",
       "      <td>113.500000</td>\n",
       "      <td>117.440002</td>\n",
       "      <td>2006300.0</td>\n",
       "    </tr>\n",
       "    <tr>\n",
       "      <th>4</th>\n",
       "      <td>2016-01-11</td>\n",
       "      <td>WLTW</td>\n",
       "      <td>117.010002</td>\n",
       "      <td>114.970001</td>\n",
       "      <td>114.089996</td>\n",
       "      <td>117.330002</td>\n",
       "      <td>1408600.0</td>\n",
       "    </tr>\n",
       "  </tbody>\n",
       "</table>\n",
       "</div>"
      ],
      "text/plain": [
       "         date symbol        open       close         low        high  \\\n",
       "0  2016-01-05   WLTW  123.430000  125.839996  122.309998  126.250000   \n",
       "1  2016-01-06   WLTW  125.239998  119.980003  119.940002  125.540001   \n",
       "2  2016-01-07   WLTW  116.379997  114.949997  114.930000  119.739998   \n",
       "3  2016-01-08   WLTW  115.480003  116.620003  113.500000  117.440002   \n",
       "4  2016-01-11   WLTW  117.010002  114.970001  114.089996  117.330002   \n",
       "\n",
       "      volume  \n",
       "0  2163600.0  \n",
       "1  2386400.0  \n",
       "2  2489500.0  \n",
       "3  2006300.0  \n",
       "4  1408600.0  "
      ]
     },
     "execution_count": 33,
     "metadata": {},
     "output_type": "execute_result"
    }
   ],
   "source": [
    "df4.head()"
   ]
  },
  {
   "cell_type": "code",
   "execution_count": 34,
   "id": "7314deac-6b0b-4e93-9462-f7fca36529ae",
   "metadata": {},
   "outputs": [
    {
     "data": {
      "text/html": [
       "<div>\n",
       "<style scoped>\n",
       "    .dataframe tbody tr th:only-of-type {\n",
       "        vertical-align: middle;\n",
       "    }\n",
       "\n",
       "    .dataframe tbody tr th {\n",
       "        vertical-align: top;\n",
       "    }\n",
       "\n",
       "    .dataframe thead th {\n",
       "        text-align: right;\n",
       "    }\n",
       "</style>\n",
       "<table border=\"1\" class=\"dataframe\">\n",
       "  <thead>\n",
       "    <tr style=\"text-align: right;\">\n",
       "      <th></th>\n",
       "      <th>date</th>\n",
       "      <th>symbol</th>\n",
       "      <th>open</th>\n",
       "      <th>close</th>\n",
       "      <th>low</th>\n",
       "      <th>high</th>\n",
       "      <th>volume</th>\n",
       "    </tr>\n",
       "  </thead>\n",
       "  <tbody>\n",
       "    <tr>\n",
       "      <th>851259</th>\n",
       "      <td>2016-12-30</td>\n",
       "      <td>ZBH</td>\n",
       "      <td>103.309998</td>\n",
       "      <td>103.199997</td>\n",
       "      <td>102.849998</td>\n",
       "      <td>103.930000</td>\n",
       "      <td>973800.0</td>\n",
       "    </tr>\n",
       "    <tr>\n",
       "      <th>851260</th>\n",
       "      <td>2016-12-30</td>\n",
       "      <td>ZION</td>\n",
       "      <td>43.070000</td>\n",
       "      <td>43.040001</td>\n",
       "      <td>42.689999</td>\n",
       "      <td>43.310001</td>\n",
       "      <td>1938100.0</td>\n",
       "    </tr>\n",
       "    <tr>\n",
       "      <th>851261</th>\n",
       "      <td>2016-12-30</td>\n",
       "      <td>ZTS</td>\n",
       "      <td>53.639999</td>\n",
       "      <td>53.529999</td>\n",
       "      <td>53.270000</td>\n",
       "      <td>53.740002</td>\n",
       "      <td>1701200.0</td>\n",
       "    </tr>\n",
       "    <tr>\n",
       "      <th>851262</th>\n",
       "      <td>2016-12-30</td>\n",
       "      <td>AIV</td>\n",
       "      <td>44.730000</td>\n",
       "      <td>45.450001</td>\n",
       "      <td>44.410000</td>\n",
       "      <td>45.590000</td>\n",
       "      <td>1380900.0</td>\n",
       "    </tr>\n",
       "    <tr>\n",
       "      <th>851263</th>\n",
       "      <td>2016-12-30</td>\n",
       "      <td>FTV</td>\n",
       "      <td>54.200001</td>\n",
       "      <td>53.630001</td>\n",
       "      <td>53.389999</td>\n",
       "      <td>54.480000</td>\n",
       "      <td>705100.0</td>\n",
       "    </tr>\n",
       "  </tbody>\n",
       "</table>\n",
       "</div>"
      ],
      "text/plain": [
       "              date symbol        open       close         low        high  \\\n",
       "851259  2016-12-30    ZBH  103.309998  103.199997  102.849998  103.930000   \n",
       "851260  2016-12-30   ZION   43.070000   43.040001   42.689999   43.310001   \n",
       "851261  2016-12-30    ZTS   53.639999   53.529999   53.270000   53.740002   \n",
       "851262  2016-12-30    AIV   44.730000   45.450001   44.410000   45.590000   \n",
       "851263  2016-12-30    FTV   54.200001   53.630001   53.389999   54.480000   \n",
       "\n",
       "           volume  \n",
       "851259   973800.0  \n",
       "851260  1938100.0  \n",
       "851261  1701200.0  \n",
       "851262  1380900.0  \n",
       "851263   705100.0  "
      ]
     },
     "execution_count": 34,
     "metadata": {},
     "output_type": "execute_result"
    }
   ],
   "source": [
    "df4.tail()"
   ]
  },
  {
   "cell_type": "code",
   "execution_count": 35,
   "id": "39c46b62-090f-4f1e-97f0-52ff798dad2d",
   "metadata": {},
   "outputs": [
    {
     "data": {
      "text/plain": [
       "Index(['date', 'symbol', 'open', 'close', 'low', 'high', 'volume'], dtype='object')"
      ]
     },
     "execution_count": 35,
     "metadata": {},
     "output_type": "execute_result"
    }
   ],
   "source": [
    "df4.columns"
   ]
  },
  {
   "cell_type": "code",
   "execution_count": 36,
   "id": "01e3c072-6411-4dd9-a768-708c6a7452c5",
   "metadata": {},
   "outputs": [
    {
     "data": {
      "text/plain": [
       "(851264, 7)"
      ]
     },
     "execution_count": 36,
     "metadata": {},
     "output_type": "execute_result"
    }
   ],
   "source": [
    "df4.shape"
   ]
  },
  {
   "cell_type": "code",
   "execution_count": 37,
   "id": "ddae9f9e-423f-4545-b3dc-b42c932ace9d",
   "metadata": {},
   "outputs": [
    {
     "data": {
      "text/plain": [
       "date       object\n",
       "symbol     object\n",
       "open      float64\n",
       "close     float64\n",
       "low       float64\n",
       "high      float64\n",
       "volume    float64\n",
       "dtype: object"
      ]
     },
     "execution_count": 37,
     "metadata": {},
     "output_type": "execute_result"
    }
   ],
   "source": [
    "df4.dtypes"
   ]
  },
  {
   "cell_type": "code",
   "execution_count": 38,
   "id": "ea819942-5e8d-4bb9-b847-409c9b1aba1c",
   "metadata": {},
   "outputs": [
    {
     "data": {
      "text/html": [
       "<div>\n",
       "<style scoped>\n",
       "    .dataframe tbody tr th:only-of-type {\n",
       "        vertical-align: middle;\n",
       "    }\n",
       "\n",
       "    .dataframe tbody tr th {\n",
       "        vertical-align: top;\n",
       "    }\n",
       "\n",
       "    .dataframe thead th {\n",
       "        text-align: right;\n",
       "    }\n",
       "</style>\n",
       "<table border=\"1\" class=\"dataframe\">\n",
       "  <thead>\n",
       "    <tr style=\"text-align: right;\">\n",
       "      <th></th>\n",
       "      <th>date</th>\n",
       "      <th>symbol</th>\n",
       "      <th>open</th>\n",
       "      <th>close</th>\n",
       "      <th>low</th>\n",
       "      <th>high</th>\n",
       "      <th>volume</th>\n",
       "    </tr>\n",
       "  </thead>\n",
       "  <tbody>\n",
       "    <tr>\n",
       "      <th>714774</th>\n",
       "      <td>2015-12-01</td>\n",
       "      <td>PLD</td>\n",
       "      <td>42.91</td>\n",
       "      <td>43.669998</td>\n",
       "      <td>42.91</td>\n",
       "      <td>43.689999</td>\n",
       "      <td>2466200.0</td>\n",
       "    </tr>\n",
       "  </tbody>\n",
       "</table>\n",
       "</div>"
      ],
      "text/plain": [
       "              date symbol   open      close    low       high     volume\n",
       "714774  2015-12-01    PLD  42.91  43.669998  42.91  43.689999  2466200.0"
      ]
     },
     "execution_count": 38,
     "metadata": {},
     "output_type": "execute_result"
    }
   ],
   "source": [
    "df4.sample()"
   ]
  },
  {
   "cell_type": "markdown",
   "id": "97c76b87-db11-4f06-8e32-9a0e6ff2b330",
   "metadata": {},
   "source": [
    "**Observation: Dataset 4 seems to be very similar to Dataset 3 in terms of its structure, either Dataset 3 or 4 will need to be chosen for the analysis**"
   ]
  },
  {
   "cell_type": "code",
   "execution_count": 44,
   "id": "c35eb71e-9402-4dcb-a15b-e83fde37d3c1",
   "metadata": {},
   "outputs": [
    {
     "name": "stdout",
     "output_type": "stream",
     "text": [
      "<class 'pandas.core.frame.DataFrame'>\n",
      "RangeIndex: 851264 entries, 0 to 851263\n",
      "Data columns (total 7 columns):\n",
      " #   Column  Non-Null Count   Dtype  \n",
      "---  ------  --------------   -----  \n",
      " 0   date    851264 non-null  object \n",
      " 1   symbol  851264 non-null  object \n",
      " 2   open    851264 non-null  float64\n",
      " 3   close   851264 non-null  float64\n",
      " 4   low     851264 non-null  float64\n",
      " 5   high    851264 non-null  float64\n",
      " 6   volume  851264 non-null  float64\n",
      "dtypes: float64(5), object(2)\n",
      "memory usage: 45.5+ MB\n"
     ]
    }
   ],
   "source": [
    "df4.info()"
   ]
  },
  {
   "cell_type": "code",
   "execution_count": null,
   "id": "9fe39a39-aae3-4fbf-946b-3627dda122b6",
   "metadata": {},
   "outputs": [],
   "source": []
  }
 ],
 "metadata": {
  "kernelspec": {
   "display_name": "Python 3 (ipykernel)",
   "language": "python",
   "name": "python3"
  },
  "language_info": {
   "codemirror_mode": {
    "name": "ipython",
    "version": 3
   },
   "file_extension": ".py",
   "mimetype": "text/x-python",
   "name": "python",
   "nbconvert_exporter": "python",
   "pygments_lexer": "ipython3",
   "version": "3.11.7"
  }
 },
 "nbformat": 4,
 "nbformat_minor": 5
}
