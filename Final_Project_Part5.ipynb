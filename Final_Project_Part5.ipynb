{
 "cells": [
  {
   "cell_type": "markdown",
   "id": "178d8605-7983-4e1e-bbfb-45360f211ffc",
   "metadata": {},
   "source": [
    "**Elizabeth Stopa**"
   ]
  },
  {
   "cell_type": "markdown",
   "id": "a1c1a2b0-340a-4440-b102-f453bcc25981",
   "metadata": {},
   "source": [
    "**05/07/2024**"
   ]
  },
  {
   "cell_type": "markdown",
   "id": "f6837dec-920e-4211-9d5c-281d5f1cd741",
   "metadata": {},
   "source": [
    "# Final Project Part 5"
   ]
  },
  {
   "cell_type": "markdown",
   "id": "204c3ca6-37bf-4fe9-8355-dcae62f563eb",
   "metadata": {},
   "source": [
    "### This milestone of the final project will be to read in the datasets that were previously cleaned in the last milestone of the project, and then aggregate functions will be performed on these datasets in order to answer all of the questions listed below. In this notebook, a few more temporary cleaning steps were added for each quesiton to better analyze the data in order to answer the questions. The answers to questions 2, 3, 4 and 5 are also visually represented in bar plots to compare the obtained data to similar data."
   ]
  },
  {
   "cell_type": "markdown",
   "id": "ecc357d3-21d3-4077-ac79-e64b361fd5a8",
   "metadata": {},
   "source": [
    "**The original datasets used in this final project were taken from Kaggle.com and are included here: \n",
    "https://www.kaggle.com/datasets/dgawlik/nyse?resource=download&select=prices.csv**\n",
    "\n",
    "**Previously cleaned datasets from the last milestone of the project \"Securities_Cleaned.csv\", \"Fundamentals_Cleaned.csv\", and \"Prices_Split_Adjusted_Cleaned.csv\" are also included and read in as pandas dataframes, and used in both questions.** "
   ]
  },
  {
   "cell_type": "markdown",
   "id": "e4373c83-b0cc-4031-9fcd-0c09ae4bcd56",
   "metadata": {},
   "source": [
    "*Cited Sources: chatGPT, StackOverflow, Kaggle*"
   ]
  },
  {
   "cell_type": "markdown",
   "id": "8812eb5c-b19a-4d34-8f7c-f442d46b8257",
   "metadata": {},
   "source": [
    "**Questions**\n",
    "1. What date did Aetna Inc have the highest \"high\" in 2016?\n",
    "2. Which company had the lowest \"low\" in March of 2013?\n",
    "3. What was the average gross profit of General Motors between 2013 and 2016?\n",
    "4. What was the average total revenue of Amazon.com Inc from 2013 to 2016?\n",
    "5. What was the total liability of Netflix Inc. in 2014?"
   ]
  },
  {
   "cell_type": "markdown",
   "id": "e427776e-b9d5-409b-bfd6-69885467866f",
   "metadata": {},
   "source": [
    "*Importing pandas to read in the previously cleaned and saved datasets, and to do some additional cleaning to better aggregate the data. Importing matplotlib.pyplot to make plots to visualize the answers to the questions.*"
   ]
  },
  {
   "cell_type": "code",
   "execution_count": 100,
   "id": "7296e35b-2afa-4932-b1bf-5d307f560704",
   "metadata": {},
   "outputs": [],
   "source": [
    "import pandas as pd\n",
    "import matplotlib.pyplot as plt"
   ]
  },
  {
   "cell_type": "markdown",
   "id": "fe5f7379-1c1f-4676-8cd3-27be38381ccb",
   "metadata": {},
   "source": [
    "## **Question 1: What date did Aetna Inc have the highest \"high\" in 2016?**"
   ]
  },
  {
   "cell_type": "markdown",
   "id": "92dad9ff-19d4-45d8-a4d2-12da407b97c7",
   "metadata": {},
   "source": [
    "### Dataset 2: \"Securities\""
   ]
  },
  {
   "cell_type": "markdown",
   "id": "b4e721a3-33b7-4822-b388-630f989165bd",
   "metadata": {},
   "source": [
    "*Reading in the previously cleaned \"Securities\" file using pandas.*"
   ]
  },
  {
   "cell_type": "code",
   "execution_count": 101,
   "id": "61e75d8a-4c8c-430d-8fce-09e371040d01",
   "metadata": {},
   "outputs": [
    {
     "data": {
      "text/html": [
       "<div>\n",
       "<style scoped>\n",
       "    .dataframe tbody tr th:only-of-type {\n",
       "        vertical-align: middle;\n",
       "    }\n",
       "\n",
       "    .dataframe tbody tr th {\n",
       "        vertical-align: top;\n",
       "    }\n",
       "\n",
       "    .dataframe thead th {\n",
       "        text-align: right;\n",
       "    }\n",
       "</style>\n",
       "<table border=\"1\" class=\"dataframe\">\n",
       "  <thead>\n",
       "    <tr style=\"text-align: right;\">\n",
       "      <th></th>\n",
       "      <th>Unnamed: 0</th>\n",
       "      <th>Ticker symbol</th>\n",
       "      <th>Security</th>\n",
       "    </tr>\n",
       "  </thead>\n",
       "  <tbody>\n",
       "    <tr>\n",
       "      <th>0</th>\n",
       "      <td>0</td>\n",
       "      <td>MMM</td>\n",
       "      <td>3M Company</td>\n",
       "    </tr>\n",
       "    <tr>\n",
       "      <th>1</th>\n",
       "      <td>1</td>\n",
       "      <td>ABT</td>\n",
       "      <td>Abbott Laboratories</td>\n",
       "    </tr>\n",
       "    <tr>\n",
       "      <th>2</th>\n",
       "      <td>2</td>\n",
       "      <td>ABBV</td>\n",
       "      <td>AbbVie</td>\n",
       "    </tr>\n",
       "    <tr>\n",
       "      <th>3</th>\n",
       "      <td>3</td>\n",
       "      <td>ACN</td>\n",
       "      <td>Accenture plc</td>\n",
       "    </tr>\n",
       "    <tr>\n",
       "      <th>4</th>\n",
       "      <td>4</td>\n",
       "      <td>ATVI</td>\n",
       "      <td>Activision Blizzard</td>\n",
       "    </tr>\n",
       "    <tr>\n",
       "      <th>...</th>\n",
       "      <td>...</td>\n",
       "      <td>...</td>\n",
       "      <td>...</td>\n",
       "    </tr>\n",
       "    <tr>\n",
       "      <th>500</th>\n",
       "      <td>500</td>\n",
       "      <td>YHOO</td>\n",
       "      <td>Yahoo Inc.</td>\n",
       "    </tr>\n",
       "    <tr>\n",
       "      <th>501</th>\n",
       "      <td>501</td>\n",
       "      <td>YUM</td>\n",
       "      <td>Yum! Brands Inc</td>\n",
       "    </tr>\n",
       "    <tr>\n",
       "      <th>502</th>\n",
       "      <td>502</td>\n",
       "      <td>ZBH</td>\n",
       "      <td>Zimmer Biomet Holdings</td>\n",
       "    </tr>\n",
       "    <tr>\n",
       "      <th>503</th>\n",
       "      <td>503</td>\n",
       "      <td>ZION</td>\n",
       "      <td>Zions Bancorp</td>\n",
       "    </tr>\n",
       "    <tr>\n",
       "      <th>504</th>\n",
       "      <td>504</td>\n",
       "      <td>ZTS</td>\n",
       "      <td>Zoetis</td>\n",
       "    </tr>\n",
       "  </tbody>\n",
       "</table>\n",
       "<p>505 rows × 3 columns</p>\n",
       "</div>"
      ],
      "text/plain": [
       "     Unnamed: 0 Ticker symbol                Security\n",
       "0             0           MMM              3M Company\n",
       "1             1           ABT     Abbott Laboratories\n",
       "2             2          ABBV                  AbbVie\n",
       "3             3           ACN           Accenture plc\n",
       "4             4          ATVI     Activision Blizzard\n",
       "..          ...           ...                     ...\n",
       "500         500          YHOO              Yahoo Inc.\n",
       "501         501           YUM         Yum! Brands Inc\n",
       "502         502           ZBH  Zimmer Biomet Holdings\n",
       "503         503          ZION           Zions Bancorp\n",
       "504         504           ZTS                  Zoetis\n",
       "\n",
       "[505 rows x 3 columns]"
      ]
     },
     "execution_count": 101,
     "metadata": {},
     "output_type": "execute_result"
    }
   ],
   "source": [
    "df2 = pd.read_csv('Securities_Cleaned.csv')\n",
    "df2"
   ]
  },
  {
   "cell_type": "markdown",
   "id": "ee81c908-96e8-4948-a1f4-eb51b02582eb",
   "metadata": {},
   "source": [
    "*Defining a variabl.e to the name of the company that I want to obtain data for, and finding the row in this dataset where the value in the Security colunn equals the name of the company, \"Aetna Inc\".*"
   ]
  },
  {
   "cell_type": "code",
   "execution_count": 102,
   "id": "f4c0cfeb-90d9-4138-a63c-a9000bbe1fd1",
   "metadata": {},
   "outputs": [
    {
     "data": {
      "text/plain": [
       "'AET'"
      ]
     },
     "execution_count": 102,
     "metadata": {},
     "output_type": "execute_result"
    }
   ],
   "source": [
    "company_name = df2[(df2['Security']=='Aetna Inc')]\n",
    "ticker = company_name['Ticker symbol'].values[0]\n",
    "ticker"
   ]
  },
  {
   "cell_type": "markdown",
   "id": "c77bfa29-51fa-4420-ae9e-4e5a462d060a",
   "metadata": {},
   "source": [
    "### Dataset 4: \"Prices-Split-Adjusted\""
   ]
  },
  {
   "cell_type": "markdown",
   "id": "a65f0de2-812f-45e2-987d-85f5547e44b5",
   "metadata": {},
   "source": [
    "*Reading in the previously cleaned \"Prices-Split-Adjusted\" file using pandas.*"
   ]
  },
  {
   "cell_type": "code",
   "execution_count": 103,
   "id": "9a2c7575-279f-43a5-9a95-63521a03385d",
   "metadata": {
    "scrolled": true
   },
   "outputs": [
    {
     "data": {
      "text/html": [
       "<div>\n",
       "<style scoped>\n",
       "    .dataframe tbody tr th:only-of-type {\n",
       "        vertical-align: middle;\n",
       "    }\n",
       "\n",
       "    .dataframe tbody tr th {\n",
       "        vertical-align: top;\n",
       "    }\n",
       "\n",
       "    .dataframe thead th {\n",
       "        text-align: right;\n",
       "    }\n",
       "</style>\n",
       "<table border=\"1\" class=\"dataframe\">\n",
       "  <thead>\n",
       "    <tr style=\"text-align: right;\">\n",
       "      <th></th>\n",
       "      <th>Unnamed: 0</th>\n",
       "      <th>date</th>\n",
       "      <th>symbol</th>\n",
       "      <th>low</th>\n",
       "      <th>high</th>\n",
       "    </tr>\n",
       "  </thead>\n",
       "  <tbody>\n",
       "    <tr>\n",
       "      <th>0</th>\n",
       "      <td>0</td>\n",
       "      <td>2016-01-05</td>\n",
       "      <td>WLTW</td>\n",
       "      <td>122.309998</td>\n",
       "      <td>126.250000</td>\n",
       "    </tr>\n",
       "    <tr>\n",
       "      <th>1</th>\n",
       "      <td>1</td>\n",
       "      <td>2016-01-06</td>\n",
       "      <td>WLTW</td>\n",
       "      <td>119.940002</td>\n",
       "      <td>125.540001</td>\n",
       "    </tr>\n",
       "    <tr>\n",
       "      <th>2</th>\n",
       "      <td>2</td>\n",
       "      <td>2016-01-07</td>\n",
       "      <td>WLTW</td>\n",
       "      <td>114.930000</td>\n",
       "      <td>119.739998</td>\n",
       "    </tr>\n",
       "    <tr>\n",
       "      <th>3</th>\n",
       "      <td>3</td>\n",
       "      <td>2016-01-08</td>\n",
       "      <td>WLTW</td>\n",
       "      <td>113.500000</td>\n",
       "      <td>117.440002</td>\n",
       "    </tr>\n",
       "    <tr>\n",
       "      <th>4</th>\n",
       "      <td>4</td>\n",
       "      <td>2016-01-11</td>\n",
       "      <td>WLTW</td>\n",
       "      <td>114.089996</td>\n",
       "      <td>117.330002</td>\n",
       "    </tr>\n",
       "    <tr>\n",
       "      <th>...</th>\n",
       "      <td>...</td>\n",
       "      <td>...</td>\n",
       "      <td>...</td>\n",
       "      <td>...</td>\n",
       "      <td>...</td>\n",
       "    </tr>\n",
       "    <tr>\n",
       "      <th>851259</th>\n",
       "      <td>851259</td>\n",
       "      <td>2016-12-30</td>\n",
       "      <td>ZBH</td>\n",
       "      <td>102.849998</td>\n",
       "      <td>103.930000</td>\n",
       "    </tr>\n",
       "    <tr>\n",
       "      <th>851260</th>\n",
       "      <td>851260</td>\n",
       "      <td>2016-12-30</td>\n",
       "      <td>ZION</td>\n",
       "      <td>42.689999</td>\n",
       "      <td>43.310001</td>\n",
       "    </tr>\n",
       "    <tr>\n",
       "      <th>851261</th>\n",
       "      <td>851261</td>\n",
       "      <td>2016-12-30</td>\n",
       "      <td>ZTS</td>\n",
       "      <td>53.270000</td>\n",
       "      <td>53.740002</td>\n",
       "    </tr>\n",
       "    <tr>\n",
       "      <th>851262</th>\n",
       "      <td>851262</td>\n",
       "      <td>2016-12-30</td>\n",
       "      <td>AIV</td>\n",
       "      <td>44.410000</td>\n",
       "      <td>45.590000</td>\n",
       "    </tr>\n",
       "    <tr>\n",
       "      <th>851263</th>\n",
       "      <td>851263</td>\n",
       "      <td>2016-12-30</td>\n",
       "      <td>FTV</td>\n",
       "      <td>53.389999</td>\n",
       "      <td>54.480000</td>\n",
       "    </tr>\n",
       "  </tbody>\n",
       "</table>\n",
       "<p>851264 rows × 5 columns</p>\n",
       "</div>"
      ],
      "text/plain": [
       "        Unnamed: 0        date symbol         low        high\n",
       "0                0  2016-01-05   WLTW  122.309998  126.250000\n",
       "1                1  2016-01-06   WLTW  119.940002  125.540001\n",
       "2                2  2016-01-07   WLTW  114.930000  119.739998\n",
       "3                3  2016-01-08   WLTW  113.500000  117.440002\n",
       "4                4  2016-01-11   WLTW  114.089996  117.330002\n",
       "...            ...         ...    ...         ...         ...\n",
       "851259      851259  2016-12-30    ZBH  102.849998  103.930000\n",
       "851260      851260  2016-12-30   ZION   42.689999   43.310001\n",
       "851261      851261  2016-12-30    ZTS   53.270000   53.740002\n",
       "851262      851262  2016-12-30    AIV   44.410000   45.590000\n",
       "851263      851263  2016-12-30    FTV   53.389999   54.480000\n",
       "\n",
       "[851264 rows x 5 columns]"
      ]
     },
     "execution_count": 103,
     "metadata": {},
     "output_type": "execute_result"
    }
   ],
   "source": [
    "df3 = pd.read_csv('Prices_Split_Adjusted_Cleaned.csv')\n",
    "df3"
   ]
  },
  {
   "cell_type": "markdown",
   "id": "9e6114bd-43e7-45f3-b526-f3a166d3d713",
   "metadata": {},
   "source": [
    "*Converting the values in the \"date\" column in df3 to a datetime format so that data analysis can be more easily performed on it.*"
   ]
  },
  {
   "cell_type": "code",
   "execution_count": 107,
   "id": "2115d034-daf8-4f27-aca1-00ddd8a6cc3b",
   "metadata": {},
   "outputs": [],
   "source": [
    "df3['date'] = pd.to_datetime(df3['date'])"
   ]
  },
  {
   "cell_type": "markdown",
   "id": "27b4c5ab-d060-4d4a-a24c-97094722ab2e",
   "metadata": {},
   "source": [
    "*Cleaning and defining the Prices-Split-Adjusted dataset to a new dataset to include only the rows where the value in the symbol column equals the ticker symbol, \"AET\" and the value of the year in the date column equals 2016.*"
   ]
  },
  {
   "cell_type": "code",
   "execution_count": 108,
   "id": "21033447-6567-4ef2-a1ab-16d1b7b35a2b",
   "metadata": {},
   "outputs": [
    {
     "data": {
      "text/html": [
       "<div>\n",
       "<style scoped>\n",
       "    .dataframe tbody tr th:only-of-type {\n",
       "        vertical-align: middle;\n",
       "    }\n",
       "\n",
       "    .dataframe tbody tr th {\n",
       "        vertical-align: top;\n",
       "    }\n",
       "\n",
       "    .dataframe thead th {\n",
       "        text-align: right;\n",
       "    }\n",
       "</style>\n",
       "<table border=\"1\" class=\"dataframe\">\n",
       "  <thead>\n",
       "    <tr style=\"text-align: right;\">\n",
       "      <th></th>\n",
       "      <th>Unnamed: 0</th>\n",
       "      <th>date</th>\n",
       "      <th>symbol</th>\n",
       "      <th>low</th>\n",
       "      <th>high</th>\n",
       "    </tr>\n",
       "  </thead>\n",
       "  <tbody>\n",
       "    <tr>\n",
       "      <th>725407</th>\n",
       "      <td>725407</td>\n",
       "      <td>2016-01-04</td>\n",
       "      <td>AET</td>\n",
       "      <td>106.019997</td>\n",
       "      <td>109.260002</td>\n",
       "    </tr>\n",
       "    <tr>\n",
       "      <th>725906</th>\n",
       "      <td>725906</td>\n",
       "      <td>2016-01-05</td>\n",
       "      <td>AET</td>\n",
       "      <td>109.199997</td>\n",
       "      <td>111.199997</td>\n",
       "    </tr>\n",
       "    <tr>\n",
       "      <th>726405</th>\n",
       "      <td>726405</td>\n",
       "      <td>2016-01-06</td>\n",
       "      <td>AET</td>\n",
       "      <td>109.089996</td>\n",
       "      <td>110.980003</td>\n",
       "    </tr>\n",
       "    <tr>\n",
       "      <th>726904</th>\n",
       "      <td>726904</td>\n",
       "      <td>2016-01-07</td>\n",
       "      <td>AET</td>\n",
       "      <td>108.250000</td>\n",
       "      <td>111.230003</td>\n",
       "    </tr>\n",
       "    <tr>\n",
       "      <th>727403</th>\n",
       "      <td>727403</td>\n",
       "      <td>2016-01-08</td>\n",
       "      <td>AET</td>\n",
       "      <td>106.269997</td>\n",
       "      <td>110.459999</td>\n",
       "    </tr>\n",
       "    <tr>\n",
       "      <th>...</th>\n",
       "      <td>...</td>\n",
       "      <td>...</td>\n",
       "      <td>...</td>\n",
       "      <td>...</td>\n",
       "      <td>...</td>\n",
       "    </tr>\n",
       "    <tr>\n",
       "      <th>848781</th>\n",
       "      <td>848781</td>\n",
       "      <td>2016-12-23</td>\n",
       "      <td>AET</td>\n",
       "      <td>124.309998</td>\n",
       "      <td>126.400002</td>\n",
       "    </tr>\n",
       "    <tr>\n",
       "      <th>849281</th>\n",
       "      <td>849281</td>\n",
       "      <td>2016-12-27</td>\n",
       "      <td>AET</td>\n",
       "      <td>125.110001</td>\n",
       "      <td>127.320000</td>\n",
       "    </tr>\n",
       "    <tr>\n",
       "      <th>849781</th>\n",
       "      <td>849781</td>\n",
       "      <td>2016-12-28</td>\n",
       "      <td>AET</td>\n",
       "      <td>124.519997</td>\n",
       "      <td>126.889999</td>\n",
       "    </tr>\n",
       "    <tr>\n",
       "      <th>850281</th>\n",
       "      <td>850281</td>\n",
       "      <td>2016-12-29</td>\n",
       "      <td>AET</td>\n",
       "      <td>124.320000</td>\n",
       "      <td>125.360001</td>\n",
       "    </tr>\n",
       "    <tr>\n",
       "      <th>850781</th>\n",
       "      <td>850781</td>\n",
       "      <td>2016-12-30</td>\n",
       "      <td>AET</td>\n",
       "      <td>123.169998</td>\n",
       "      <td>124.739998</td>\n",
       "    </tr>\n",
       "  </tbody>\n",
       "</table>\n",
       "<p>252 rows × 5 columns</p>\n",
       "</div>"
      ],
      "text/plain": [
       "        Unnamed: 0       date symbol         low        high\n",
       "725407      725407 2016-01-04    AET  106.019997  109.260002\n",
       "725906      725906 2016-01-05    AET  109.199997  111.199997\n",
       "726405      726405 2016-01-06    AET  109.089996  110.980003\n",
       "726904      726904 2016-01-07    AET  108.250000  111.230003\n",
       "727403      727403 2016-01-08    AET  106.269997  110.459999\n",
       "...            ...        ...    ...         ...         ...\n",
       "848781      848781 2016-12-23    AET  124.309998  126.400002\n",
       "849281      849281 2016-12-27    AET  125.110001  127.320000\n",
       "849781      849781 2016-12-28    AET  124.519997  126.889999\n",
       "850281      850281 2016-12-29    AET  124.320000  125.360001\n",
       "850781      850781 2016-12-30    AET  123.169998  124.739998\n",
       "\n",
       "[252 rows x 5 columns]"
      ]
     },
     "execution_count": 108,
     "metadata": {},
     "output_type": "execute_result"
    }
   ],
   "source": [
    "df4 = df3[(df3['symbol']=='AET') & (df3['date'].dt.year == 2016)]\n",
    "df4"
   ]
  },
  {
   "cell_type": "markdown",
   "id": "27318ae6-b82f-4b41-94a8-2a4e9c342978",
   "metadata": {},
   "source": [
    "*Finding and printing the row that has the highest value in the \"high\" column and defining it to the variable \"highest_high\"*"
   ]
  },
  {
   "cell_type": "code",
   "execution_count": 109,
   "id": "a6c20812-c56f-4f8c-a14d-4e690f879814",
   "metadata": {},
   "outputs": [
    {
     "name": "stdout",
     "output_type": "stream",
     "text": [
      "        Unnamed: 0       date symbol         low   high\n",
      "841281      841281 2016-12-02    AET  132.979996  136.5\n"
     ]
    }
   ],
   "source": [
    "highest_high = df4[df4['high'] == df4['high'].max()]\n",
    "print(highest_high)"
   ]
  },
  {
   "cell_type": "markdown",
   "id": "58e0d785-601d-46e3-85a8-b08ad761810d",
   "metadata": {},
   "source": [
    "*Converting the format of the value in the \"date\" column in highest_high to \"Year-month-day\".*"
   ]
  },
  {
   "cell_type": "code",
   "execution_count": 110,
   "id": "b47f0eb1-eadd-437f-9a45-a0977543e42a",
   "metadata": {},
   "outputs": [
    {
     "name": "stderr",
     "output_type": "stream",
     "text": [
      "C:\\Users\\Elizabeth\\AppData\\Local\\Temp\\ipykernel_13836\\1883832382.py:1: SettingWithCopyWarning: \n",
      "A value is trying to be set on a copy of a slice from a DataFrame.\n",
      "Try using .loc[row_indexer,col_indexer] = value instead\n",
      "\n",
      "See the caveats in the documentation: https://pandas.pydata.org/pandas-docs/stable/user_guide/indexing.html#returning-a-view-versus-a-copy\n",
      "  highest_high['date'] = highest_high['date'].dt.strftime('%Y-%m-%d')\n"
     ]
    },
    {
     "data": {
      "text/html": [
       "<div>\n",
       "<style scoped>\n",
       "    .dataframe tbody tr th:only-of-type {\n",
       "        vertical-align: middle;\n",
       "    }\n",
       "\n",
       "    .dataframe tbody tr th {\n",
       "        vertical-align: top;\n",
       "    }\n",
       "\n",
       "    .dataframe thead th {\n",
       "        text-align: right;\n",
       "    }\n",
       "</style>\n",
       "<table border=\"1\" class=\"dataframe\">\n",
       "  <thead>\n",
       "    <tr style=\"text-align: right;\">\n",
       "      <th></th>\n",
       "      <th>Unnamed: 0</th>\n",
       "      <th>date</th>\n",
       "      <th>symbol</th>\n",
       "      <th>low</th>\n",
       "      <th>high</th>\n",
       "    </tr>\n",
       "  </thead>\n",
       "  <tbody>\n",
       "    <tr>\n",
       "      <th>841281</th>\n",
       "      <td>841281</td>\n",
       "      <td>2016-12-02</td>\n",
       "      <td>AET</td>\n",
       "      <td>132.979996</td>\n",
       "      <td>136.5</td>\n",
       "    </tr>\n",
       "  </tbody>\n",
       "</table>\n",
       "</div>"
      ],
      "text/plain": [
       "        Unnamed: 0        date symbol         low   high\n",
       "841281      841281  2016-12-02    AET  132.979996  136.5"
      ]
     },
     "execution_count": 110,
     "metadata": {},
     "output_type": "execute_result"
    }
   ],
   "source": [
    "highest_high['date'] = highest_high['date'].dt.strftime('%Y-%m-%d')\n",
    "highest_high"
   ]
  },
  {
   "cell_type": "markdown",
   "id": "ef009209-ba02-40a4-bdab-c1a299b09194",
   "metadata": {},
   "source": [
    "*Extracting the value from the date column of highest_high and defining it to a new variable \"highest_high_date\" and printing it.*"
   ]
  },
  {
   "cell_type": "code",
   "execution_count": 111,
   "id": "d3967c98-94bb-4a69-9ef5-678d755032d6",
   "metadata": {},
   "outputs": [
    {
     "name": "stdout",
     "output_type": "stream",
     "text": [
      "2016-12-02\n"
     ]
    }
   ],
   "source": [
    "highest_high_date = highest_high['date'].values[0]\n",
    "print(highest_high_date)"
   ]
  },
  {
   "cell_type": "markdown",
   "id": "e3b82363-ca23-4251-bede-f392d6bf64b8",
   "metadata": {},
   "source": [
    "**Answer: Aetna Inc had the highest high in 2016 on December 2nd, 2016.**"
   ]
  },
  {
   "cell_type": "markdown",
   "id": "68fb481e-8b1a-4c92-b92a-c858f3bdec82",
   "metadata": {},
   "source": [
    "## **Question 2: Which company had the lowest \"low\" in March of 2013?**"
   ]
  },
  {
   "cell_type": "markdown",
   "id": "0e9d4d8c-63ea-4a5e-86e1-06e5656e8ba0",
   "metadata": {},
   "source": [
    "*Converting the \"date\" column in df3 to a datetime format, then defining a variable \"dates\" to the a selection of rows that have in their \"date\" column the value \"3\" for month to represent March and that have the value of \"2013\" for year. Then printing \"dates\".*"
   ]
  },
  {
   "cell_type": "code",
   "execution_count": 112,
   "id": "0b14c11e-6bd4-46f5-b4f4-8393b67707f4",
   "metadata": {},
   "outputs": [
    {
     "name": "stdout",
     "output_type": "stream",
     "text": [
      "        Unnamed: 0       date symbol        low       high\n",
      "373668      373668 2013-03-01      A  29.134478  30.028612\n",
      "373669      373669 2013-03-01    AAL  13.320000  13.950000\n",
      "373670      373670 2013-03-01    AAP  75.620003  76.660004\n",
      "373671      373671 2013-03-01   AAPL  61.425713  62.597141\n",
      "373672      373672 2013-03-01   ABBV  36.549999  38.070000\n",
      "...            ...        ...    ...        ...        ...\n",
      "383343      383343 2013-03-28    YUM  50.970525  51.912294\n",
      "383344      383344 2013-03-28    ZBH  73.419998  75.459999\n",
      "383345      383345 2013-03-28   ZION  24.879999  25.040001\n",
      "383346      383346 2013-03-28    ZTS  32.630001  33.500000\n",
      "383347      383347 2013-03-28    AIV  30.360001  30.719999\n",
      "\n",
      "[9680 rows x 5 columns]\n"
     ]
    }
   ],
   "source": [
    "df3['date'] = pd.to_datetime(df3['date'])\n",
    "dates = df3[(df3['date'].dt.month == 3) & (df3['date'].dt.year == 2013)]\n",
    "print(dates)"
   ]
  },
  {
   "cell_type": "markdown",
   "id": "cd704684-f5eb-4ad2-a216-b20272be7ba4",
   "metadata": {},
   "source": [
    "*Cleaning and defining the Prices-Split-Adjusted dataset to a new dataset to include only the rows where the value in the date column equals \"3\" for the month of March and the value of the year in the date column equals 2013.*"
   ]
  },
  {
   "cell_type": "code",
   "execution_count": 113,
   "id": "495e6758-2d53-40ef-baa7-26baf94782cf",
   "metadata": {},
   "outputs": [
    {
     "data": {
      "text/html": [
       "<div>\n",
       "<style scoped>\n",
       "    .dataframe tbody tr th:only-of-type {\n",
       "        vertical-align: middle;\n",
       "    }\n",
       "\n",
       "    .dataframe tbody tr th {\n",
       "        vertical-align: top;\n",
       "    }\n",
       "\n",
       "    .dataframe thead th {\n",
       "        text-align: right;\n",
       "    }\n",
       "</style>\n",
       "<table border=\"1\" class=\"dataframe\">\n",
       "  <thead>\n",
       "    <tr style=\"text-align: right;\">\n",
       "      <th></th>\n",
       "      <th>Unnamed: 0</th>\n",
       "      <th>date</th>\n",
       "      <th>symbol</th>\n",
       "      <th>low</th>\n",
       "      <th>high</th>\n",
       "    </tr>\n",
       "  </thead>\n",
       "  <tbody>\n",
       "    <tr>\n",
       "      <th>373668</th>\n",
       "      <td>373668</td>\n",
       "      <td>2013-03-01</td>\n",
       "      <td>A</td>\n",
       "      <td>29.134478</td>\n",
       "      <td>30.028612</td>\n",
       "    </tr>\n",
       "    <tr>\n",
       "      <th>373669</th>\n",
       "      <td>373669</td>\n",
       "      <td>2013-03-01</td>\n",
       "      <td>AAL</td>\n",
       "      <td>13.320000</td>\n",
       "      <td>13.950000</td>\n",
       "    </tr>\n",
       "    <tr>\n",
       "      <th>373670</th>\n",
       "      <td>373670</td>\n",
       "      <td>2013-03-01</td>\n",
       "      <td>AAP</td>\n",
       "      <td>75.620003</td>\n",
       "      <td>76.660004</td>\n",
       "    </tr>\n",
       "    <tr>\n",
       "      <th>373671</th>\n",
       "      <td>373671</td>\n",
       "      <td>2013-03-01</td>\n",
       "      <td>AAPL</td>\n",
       "      <td>61.425713</td>\n",
       "      <td>62.597141</td>\n",
       "    </tr>\n",
       "    <tr>\n",
       "      <th>373672</th>\n",
       "      <td>373672</td>\n",
       "      <td>2013-03-01</td>\n",
       "      <td>ABBV</td>\n",
       "      <td>36.549999</td>\n",
       "      <td>38.070000</td>\n",
       "    </tr>\n",
       "    <tr>\n",
       "      <th>...</th>\n",
       "      <td>...</td>\n",
       "      <td>...</td>\n",
       "      <td>...</td>\n",
       "      <td>...</td>\n",
       "      <td>...</td>\n",
       "    </tr>\n",
       "    <tr>\n",
       "      <th>383343</th>\n",
       "      <td>383343</td>\n",
       "      <td>2013-03-28</td>\n",
       "      <td>YUM</td>\n",
       "      <td>50.970525</td>\n",
       "      <td>51.912294</td>\n",
       "    </tr>\n",
       "    <tr>\n",
       "      <th>383344</th>\n",
       "      <td>383344</td>\n",
       "      <td>2013-03-28</td>\n",
       "      <td>ZBH</td>\n",
       "      <td>73.419998</td>\n",
       "      <td>75.459999</td>\n",
       "    </tr>\n",
       "    <tr>\n",
       "      <th>383345</th>\n",
       "      <td>383345</td>\n",
       "      <td>2013-03-28</td>\n",
       "      <td>ZION</td>\n",
       "      <td>24.879999</td>\n",
       "      <td>25.040001</td>\n",
       "    </tr>\n",
       "    <tr>\n",
       "      <th>383346</th>\n",
       "      <td>383346</td>\n",
       "      <td>2013-03-28</td>\n",
       "      <td>ZTS</td>\n",
       "      <td>32.630001</td>\n",
       "      <td>33.500000</td>\n",
       "    </tr>\n",
       "    <tr>\n",
       "      <th>383347</th>\n",
       "      <td>383347</td>\n",
       "      <td>2013-03-28</td>\n",
       "      <td>AIV</td>\n",
       "      <td>30.360001</td>\n",
       "      <td>30.719999</td>\n",
       "    </tr>\n",
       "  </tbody>\n",
       "</table>\n",
       "<p>9680 rows × 5 columns</p>\n",
       "</div>"
      ],
      "text/plain": [
       "        Unnamed: 0       date symbol        low       high\n",
       "373668      373668 2013-03-01      A  29.134478  30.028612\n",
       "373669      373669 2013-03-01    AAL  13.320000  13.950000\n",
       "373670      373670 2013-03-01    AAP  75.620003  76.660004\n",
       "373671      373671 2013-03-01   AAPL  61.425713  62.597141\n",
       "373672      373672 2013-03-01   ABBV  36.549999  38.070000\n",
       "...            ...        ...    ...        ...        ...\n",
       "383343      383343 2013-03-28    YUM  50.970525  51.912294\n",
       "383344      383344 2013-03-28    ZBH  73.419998  75.459999\n",
       "383345      383345 2013-03-28   ZION  24.879999  25.040001\n",
       "383346      383346 2013-03-28    ZTS  32.630001  33.500000\n",
       "383347      383347 2013-03-28    AIV  30.360001  30.719999\n",
       "\n",
       "[9680 rows x 5 columns]"
      ]
     },
     "execution_count": 113,
     "metadata": {},
     "output_type": "execute_result"
    }
   ],
   "source": [
    "df5 = df3[(df3['date'].dt.month == 3) & (df3['date'].dt.year == 2013)]\n",
    "df5"
   ]
  },
  {
   "cell_type": "markdown",
   "id": "a8b0d94b-70aa-4f21-989c-e398411d9b76",
   "metadata": {},
   "source": [
    "*Finding and printing the row that has the lowest value in the \"low\" column and defining it to the variable \"lowest_low\".*"
   ]
  },
  {
   "cell_type": "code",
   "execution_count": 114,
   "id": "68609437-b3cc-4054-835c-187eb26d60f1",
   "metadata": {},
   "outputs": [
    {
     "name": "stdout",
     "output_type": "stream",
     "text": [
      "        Unnamed: 0       date symbol   low  high\n",
      "383050      383050 2013-03-28    FTR  3.71   4.0\n"
     ]
    }
   ],
   "source": [
    "lowest_low = df5[df5['low'] == df5['low'].min()]\n",
    "print(lowest_low)"
   ]
  },
  {
   "cell_type": "markdown",
   "id": "8691dd7f-0f95-4f1f-bcef-6ec04cfe6a56",
   "metadata": {},
   "source": [
    "*Extracting the value from the symbol column of lowest_low and defining it to a new variable \"lowest_low_ticker\" and printing it.*"
   ]
  },
  {
   "cell_type": "code",
   "execution_count": 115,
   "id": "a4f9b090-5a5c-4941-ad97-4a5f1077f4d7",
   "metadata": {},
   "outputs": [
    {
     "name": "stdout",
     "output_type": "stream",
     "text": [
      "FTR\n"
     ]
    }
   ],
   "source": [
    "lowest_low_ticker = lowest_low['symbol'].values[0]\n",
    "print(lowest_low_ticker)"
   ]
  },
  {
   "cell_type": "markdown",
   "id": "9d6a6439-65e1-45d2-863d-f8a23c18f81b",
   "metadata": {},
   "source": [
    "*Defining a variable \"selected_ticker\" to the ticker symbol that was found in the previous step, and finding the name of the company in this dataset where the value in the Ticker Symbol column equals the ticker symbol, \"FTR\".* "
   ]
  },
  {
   "cell_type": "code",
   "execution_count": 116,
   "id": "7a50ffc8-3168-4957-8689-82eda720ecc5",
   "metadata": {},
   "outputs": [
    {
     "name": "stdout",
     "output_type": "stream",
     "text": [
      "Frontier Communications\n"
     ]
    }
   ],
   "source": [
    "ticker2 = \"FTR\"\n",
    "selected_row = df2[df2['Ticker symbol']==ticker2]\n",
    "company_name2 = selected_row['Security'].values[0]\n",
    "print(company_name2)"
   ]
  },
  {
   "cell_type": "markdown",
   "id": "02876100-7b68-41a6-9f80-4bd4fcc2edfb",
   "metadata": {},
   "source": [
    "**Answer: The company with the lowest low in March of 2013 was Frontier Communications.**"
   ]
  },
  {
   "cell_type": "markdown",
   "id": "5c157b30-badf-4a14-83a1-04f7773c8288",
   "metadata": {},
   "source": [
    "## **Question 3: What was the average gross profit of General Motors between 2013 and 2016?**"
   ]
  },
  {
   "cell_type": "markdown",
   "id": "3651d09c-ea4a-4f2c-86d0-c351d9020f4b",
   "metadata": {},
   "source": [
    "*Defining a variable to the name of the company that I want to obtain data for, and finding the row in this dataset where the value in the Security colunn equals the name of the company, \"General Motors\".*"
   ]
  },
  {
   "cell_type": "code",
   "execution_count": 117,
   "id": "7a61aa8f-ddd7-419f-ba40-6d0104b63062",
   "metadata": {},
   "outputs": [
    {
     "name": "stdout",
     "output_type": "stream",
     "text": [
      "GM\n"
     ]
    }
   ],
   "source": [
    "company_name3 = \"General Motors\"\n",
    "selected_row2 = df2[df2['Security']==company_name3]\n",
    "ticker3 = selected_row2['Ticker symbol'].values[0]\n",
    "print(ticker3)"
   ]
  },
  {
   "cell_type": "markdown",
   "id": "42b69030-b5a0-4d3a-9c92-b8d451193fe7",
   "metadata": {},
   "source": [
    "*This shows that the Ticker symbol for Goldman Sachs Group is 'GS', which will be used to find information on the company in the Fundamentals dataset.*"
   ]
  },
  {
   "cell_type": "markdown",
   "id": "57b6d1ee-ad58-4103-a940-eb880aeff620",
   "metadata": {},
   "source": [
    "*Defining a variable to the ticker symbol that I want to obtain data for from this dataset, and finding the rows in this dataset where the value in the Ticker Symbol column equals the ticker symbol, \"GM\".*"
   ]
  },
  {
   "cell_type": "code",
   "execution_count": 118,
   "id": "5e105367-2494-48e3-93e7-c79060479b72",
   "metadata": {},
   "outputs": [
    {
     "name": "stdout",
     "output_type": "stream",
     "text": [
      "     Unnamed: 0 Ticker Symbol Period Ending  Gross Profit  Total Liabilities  \\\n",
      "700         700            GM    2013-12-31  1.805400e+10       1.237370e+11   \n",
      "701         701            GM    2014-12-31  1.380800e+10       1.420440e+11   \n",
      "702         702            GM    2015-12-31  1.830200e+10       1.544670e+11   \n",
      "703         703            GM    2016-12-31  2.125500e+10       1.778540e+11   \n",
      "\n",
      "     Total Revenue  Year  \n",
      "700   1.554270e+11  2013  \n",
      "701   1.559290e+11  2014  \n",
      "702   1.523560e+11  2015  \n",
      "703   1.663800e+11  2016  \n"
     ]
    }
   ],
   "source": [
    "ticker_symbol = \"GM\"\n",
    "selected_rows3 = df[df['Ticker Symbol']==ticker_symbol]\n",
    "print(selected_rows3)"
   ]
  },
  {
   "cell_type": "markdown",
   "id": "bfed3176-1b20-4059-9baa-d850aa0034ae",
   "metadata": {},
   "source": [
    "*Cleaning and defining the fundamentals dataset to a new dataset to include only the information that I found above.*"
   ]
  },
  {
   "cell_type": "code",
   "execution_count": 119,
   "id": "8a100fd8-8249-4adc-a52a-625484ce229a",
   "metadata": {},
   "outputs": [
    {
     "data": {
      "text/html": [
       "<div>\n",
       "<style scoped>\n",
       "    .dataframe tbody tr th:only-of-type {\n",
       "        vertical-align: middle;\n",
       "    }\n",
       "\n",
       "    .dataframe tbody tr th {\n",
       "        vertical-align: top;\n",
       "    }\n",
       "\n",
       "    .dataframe thead th {\n",
       "        text-align: right;\n",
       "    }\n",
       "</style>\n",
       "<table border=\"1\" class=\"dataframe\">\n",
       "  <thead>\n",
       "    <tr style=\"text-align: right;\">\n",
       "      <th></th>\n",
       "      <th>Unnamed: 0</th>\n",
       "      <th>Ticker Symbol</th>\n",
       "      <th>Period Ending</th>\n",
       "      <th>Gross Profit</th>\n",
       "      <th>Total Liabilities</th>\n",
       "      <th>Total Revenue</th>\n",
       "      <th>Year</th>\n",
       "    </tr>\n",
       "  </thead>\n",
       "  <tbody>\n",
       "    <tr>\n",
       "      <th>700</th>\n",
       "      <td>700</td>\n",
       "      <td>GM</td>\n",
       "      <td>2013-12-31</td>\n",
       "      <td>1.805400e+10</td>\n",
       "      <td>1.237370e+11</td>\n",
       "      <td>1.554270e+11</td>\n",
       "      <td>2013</td>\n",
       "    </tr>\n",
       "    <tr>\n",
       "      <th>701</th>\n",
       "      <td>701</td>\n",
       "      <td>GM</td>\n",
       "      <td>2014-12-31</td>\n",
       "      <td>1.380800e+10</td>\n",
       "      <td>1.420440e+11</td>\n",
       "      <td>1.559290e+11</td>\n",
       "      <td>2014</td>\n",
       "    </tr>\n",
       "    <tr>\n",
       "      <th>702</th>\n",
       "      <td>702</td>\n",
       "      <td>GM</td>\n",
       "      <td>2015-12-31</td>\n",
       "      <td>1.830200e+10</td>\n",
       "      <td>1.544670e+11</td>\n",
       "      <td>1.523560e+11</td>\n",
       "      <td>2015</td>\n",
       "    </tr>\n",
       "    <tr>\n",
       "      <th>703</th>\n",
       "      <td>703</td>\n",
       "      <td>GM</td>\n",
       "      <td>2016-12-31</td>\n",
       "      <td>2.125500e+10</td>\n",
       "      <td>1.778540e+11</td>\n",
       "      <td>1.663800e+11</td>\n",
       "      <td>2016</td>\n",
       "    </tr>\n",
       "  </tbody>\n",
       "</table>\n",
       "</div>"
      ],
      "text/plain": [
       "     Unnamed: 0 Ticker Symbol Period Ending  Gross Profit  Total Liabilities  \\\n",
       "700         700            GM    2013-12-31  1.805400e+10       1.237370e+11   \n",
       "701         701            GM    2014-12-31  1.380800e+10       1.420440e+11   \n",
       "702         702            GM    2015-12-31  1.830200e+10       1.544670e+11   \n",
       "703         703            GM    2016-12-31  2.125500e+10       1.778540e+11   \n",
       "\n",
       "     Total Revenue  Year  \n",
       "700   1.554270e+11  2013  \n",
       "701   1.559290e+11  2014  \n",
       "702   1.523560e+11  2015  \n",
       "703   1.663800e+11  2016  "
      ]
     },
     "execution_count": 119,
     "metadata": {},
     "output_type": "execute_result"
    }
   ],
   "source": [
    "df6 = df[df['Ticker Symbol']=='GM']\n",
    "df6"
   ]
  },
  {
   "cell_type": "markdown",
   "id": "1287877a-ba30-4dd3-a7ac-7a18baf2fc9f",
   "metadata": {},
   "source": [
    "*Calculating and printing the average of values in the \"Gross Profit\" column in this new dataset.*"
   ]
  },
  {
   "cell_type": "code",
   "execution_count": 120,
   "id": "e18ee97f-6f07-4a78-8eb4-21bb714b2d42",
   "metadata": {},
   "outputs": [
    {
     "data": {
      "text/plain": [
       "17854750000.0"
      ]
     },
     "execution_count": 120,
     "metadata": {},
     "output_type": "execute_result"
    }
   ],
   "source": [
    "average = df6['Gross Profit'].mean()\n",
    "average"
   ]
  },
  {
   "cell_type": "markdown",
   "id": "2b7f89fd-7b72-4a3a-b51f-04642cbf747f",
   "metadata": {},
   "source": [
    "**The average gross profit that General Motors had from 2013 to 2016 was $17854750000.0.**"
   ]
  },
  {
   "cell_type": "markdown",
   "id": "afb7f09e-7ad6-442a-a9fd-8fb23c6efd71",
   "metadata": {},
   "source": [
    "*Creating and displaying a bar graph with the \"Period Ending\" of the new dataset on the x-axis, and the \"Gross Profit\" of the new dataset on the y axis, along with axis and title labels, colors, and other structural details.*"
   ]
  },
  {
   "cell_type": "code",
   "execution_count": 122,
   "id": "02f119af-b6a5-4689-800c-4babe2d1a99e",
   "metadata": {},
   "outputs": [
    {
     "data": {
      "image/png": "[encoded data removed]",
      "text/plain": [
       "<Figure size 800x600 with 1 Axes>"
      ]
     },
     "metadata": {},
     "output_type": "display_data"
    }
   ],
   "source": [
    "colors = ['skyblue', 'orange', 'green', 'tomato']\n",
    "plt.figure(figsize=(8,6))\n",
    "plt.bar(df6['Period Ending'], df6['Gross Profit'], color=colors)\n",
    "plt.xlabel('Period Ending of Year')\n",
    "plt.ylabel('Gross Profit')\n",
    "plt.title('Gross Profit at Period Ending of Each Year of General Motors from 2013 to 2016')\n",
    "plt.xticks(rotation=45)\n",
    "plt.tight_layout()\n",
    "plt.show()"
   ]
  },
  {
   "cell_type": "markdown",
   "id": "56148b0e-b4b5-4e36-b5f6-84a0ca9ebdcb",
   "metadata": {},
   "source": [
    "## **Question 4: What was the average total revenue of Amazon.com Inc from 2013 to 2016?**"
   ]
  },
  {
   "cell_type": "markdown",
   "id": "7f279ba3-144e-4b20-8bd3-50576d647246",
   "metadata": {},
   "source": [
    "*Defining a variable to the name of the company that I want to obtain data for, and finding the row in this dataset where the value in the Security colunn equals the name of the company, \"Amazon.com Inc\".*"
   ]
  },
  {
   "cell_type": "code",
   "execution_count": 123,
   "id": "9061173b-527c-4847-838b-efd4c50c9320",
   "metadata": {},
   "outputs": [
    {
     "name": "stdout",
     "output_type": "stream",
     "text": [
      "AMZN\n"
     ]
    }
   ],
   "source": [
    "company_name4 = \"Amazon.com Inc\"\n",
    "selected_row4 = df2[df2['Security']==company_name4]\n",
    "ticker4 = selected_row4['Ticker symbol'].values[0]\n",
    "print(ticker4)"
   ]
  },
  {
   "cell_type": "markdown",
   "id": "aa435f6e-0fa9-4fa4-88a4-a3c633c6fd06",
   "metadata": {},
   "source": [
    "*Defining a variable to the ticker symbol that I want to obtain data for from this dataset, and finding the rows in this dataset where the value in the Ticker Symbol column equals the ticker symbol, \"AMZN\".*"
   ]
  },
  {
   "cell_type": "code",
   "execution_count": 124,
   "id": "ce9c5fb4-2195-4624-8e48-49b22e0c0b7d",
   "metadata": {},
   "outputs": [
    {
     "name": "stdout",
     "output_type": "stream",
     "text": [
      "     Unnamed: 0 Ticker Symbol Period Ending  Gross Profit  Total Liabilities  \\\n",
      "120         120          AMZN    2013-12-31  2.027100e+10       3.041300e+10   \n",
      "121         121          AMZN    2014-12-31  2.623600e+10       4.376400e+10   \n",
      "122         122          AMZN    2015-12-31  3.535500e+10       5.136300e+10   \n",
      "123         123          AMZN    2016-12-31  4.772200e+10       6.411700e+10   \n",
      "\n",
      "     Total Revenue  Year  \n",
      "120   7.445200e+10  2013  \n",
      "121   8.898800e+10  2014  \n",
      "122   1.070060e+11  2015  \n",
      "123   1.359870e+11  2016  \n"
     ]
    }
   ],
   "source": [
    "ticker_symbol2 = \"AMZN\"\n",
    "selected_rows5 = df[df['Ticker Symbol']==ticker_symbol2]\n",
    "print(selected_rows5)"
   ]
  },
  {
   "cell_type": "markdown",
   "id": "9c6b814f-cc6b-4c6a-bf04-463bc4aa5434",
   "metadata": {},
   "source": [
    "*Cleaning and defining the fundamentals dataset to a new dataset to include only the information that I found above.*"
   ]
  },
  {
   "cell_type": "code",
   "execution_count": 125,
   "id": "49a8aaa3-cdf9-49f8-a9fc-94213bab9fa5",
   "metadata": {},
   "outputs": [
    {
     "data": {
      "text/html": [
       "<div>\n",
       "<style scoped>\n",
       "    .dataframe tbody tr th:only-of-type {\n",
       "        vertical-align: middle;\n",
       "    }\n",
       "\n",
       "    .dataframe tbody tr th {\n",
       "        vertical-align: top;\n",
       "    }\n",
       "\n",
       "    .dataframe thead th {\n",
       "        text-align: right;\n",
       "    }\n",
       "</style>\n",
       "<table border=\"1\" class=\"dataframe\">\n",
       "  <thead>\n",
       "    <tr style=\"text-align: right;\">\n",
       "      <th></th>\n",
       "      <th>Unnamed: 0</th>\n",
       "      <th>Ticker Symbol</th>\n",
       "      <th>Period Ending</th>\n",
       "      <th>Gross Profit</th>\n",
       "      <th>Total Liabilities</th>\n",
       "      <th>Total Revenue</th>\n",
       "      <th>Year</th>\n",
       "    </tr>\n",
       "  </thead>\n",
       "  <tbody>\n",
       "    <tr>\n",
       "      <th>120</th>\n",
       "      <td>120</td>\n",
       "      <td>AMZN</td>\n",
       "      <td>2013-12-31</td>\n",
       "      <td>2.027100e+10</td>\n",
       "      <td>3.041300e+10</td>\n",
       "      <td>7.445200e+10</td>\n",
       "      <td>2013</td>\n",
       "    </tr>\n",
       "    <tr>\n",
       "      <th>121</th>\n",
       "      <td>121</td>\n",
       "      <td>AMZN</td>\n",
       "      <td>2014-12-31</td>\n",
       "      <td>2.623600e+10</td>\n",
       "      <td>4.376400e+10</td>\n",
       "      <td>8.898800e+10</td>\n",
       "      <td>2014</td>\n",
       "    </tr>\n",
       "    <tr>\n",
       "      <th>122</th>\n",
       "      <td>122</td>\n",
       "      <td>AMZN</td>\n",
       "      <td>2015-12-31</td>\n",
       "      <td>3.535500e+10</td>\n",
       "      <td>5.136300e+10</td>\n",
       "      <td>1.070060e+11</td>\n",
       "      <td>2015</td>\n",
       "    </tr>\n",
       "    <tr>\n",
       "      <th>123</th>\n",
       "      <td>123</td>\n",
       "      <td>AMZN</td>\n",
       "      <td>2016-12-31</td>\n",
       "      <td>4.772200e+10</td>\n",
       "      <td>6.411700e+10</td>\n",
       "      <td>1.359870e+11</td>\n",
       "      <td>2016</td>\n",
       "    </tr>\n",
       "  </tbody>\n",
       "</table>\n",
       "</div>"
      ],
      "text/plain": [
       "     Unnamed: 0 Ticker Symbol Period Ending  Gross Profit  Total Liabilities  \\\n",
       "120         120          AMZN    2013-12-31  2.027100e+10       3.041300e+10   \n",
       "121         121          AMZN    2014-12-31  2.623600e+10       4.376400e+10   \n",
       "122         122          AMZN    2015-12-31  3.535500e+10       5.136300e+10   \n",
       "123         123          AMZN    2016-12-31  4.772200e+10       6.411700e+10   \n",
       "\n",
       "     Total Revenue  Year  \n",
       "120   7.445200e+10  2013  \n",
       "121   8.898800e+10  2014  \n",
       "122   1.070060e+11  2015  \n",
       "123   1.359870e+11  2016  "
      ]
     },
     "execution_count": 125,
     "metadata": {},
     "output_type": "execute_result"
    }
   ],
   "source": [
    "df7 = df[df['Ticker Symbol']=='AMZN']\n",
    "df7"
   ]
  },
  {
   "cell_type": "markdown",
   "id": "b891f088-80e7-4b3c-b22c-9bacbdafdb91",
   "metadata": {},
   "source": [
    "*Calculating and printing the average of values in the \"Total Revenue\" column in this new dataset.*"
   ]
  },
  {
   "cell_type": "code",
   "execution_count": 126,
   "id": "ecb0de6a-9667-473a-8e88-0becc37d305f",
   "metadata": {},
   "outputs": [
    {
     "data": {
      "text/plain": [
       "101608250000.0"
      ]
     },
     "execution_count": 126,
     "metadata": {},
     "output_type": "execute_result"
    }
   ],
   "source": [
    "average2 = df7['Total Revenue'].mean()\n",
    "average2"
   ]
  },
  {
   "cell_type": "markdown",
   "id": "3c375a38-1873-480d-a15c-6bb8eae1a032",
   "metadata": {},
   "source": [
    "**The average total revenue of Amazon from 2013 to 2016 was about $101608250000.0.**"
   ]
  },
  {
   "cell_type": "markdown",
   "id": "3c817176-1d50-47e9-b504-8c90f81e54ce",
   "metadata": {},
   "source": [
    "*Creating and displaying a bar graph with the \"Period Ending\" of the new dataset on the x-axis, and the \"Total Revenue\" of the new dataset on the y axis, along with axis and title labels, colors, and other structural details.*"
   ]
  },
  {
   "cell_type": "code",
   "execution_count": 127,
   "id": "39a4359f-039d-4d1c-b75f-6c8d7f50f666",
   "metadata": {},
   "outputs": [
    {
     "data": {
      "image/png": "[encoded data removed]",
      "text/plain": [
       "<Figure size 800x600 with 1 Axes>"
      ]
     },
     "metadata": {},
     "output_type": "display_data"
    }
   ],
   "source": [
    "colors = ['blue', 'pink', 'springgreen', 'salmon']\n",
    "plt.figure(figsize=(8,6))\n",
    "plt.bar(df7['Period Ending'], df7['Total Revenue'], color=colors)\n",
    "plt.xlabel('Period Ending of Year')\n",
    "plt.ylabel('Total Revenue')\n",
    "plt.title('Total Revenue at Period Ending of Each Year of Amazon.com Inc from 2013 to 2016')\n",
    "plt.xticks(rotation=45)\n",
    "plt.tight_layout()\n",
    "plt.show()"
   ]
  },
  {
   "cell_type": "markdown",
   "id": "99d829d5-a6a3-4584-8ecc-41cf3c631603",
   "metadata": {},
   "source": [
    "## **Question 5: What was the total liability of Netflix Inc. in 2014?**"
   ]
  },
  {
   "cell_type": "markdown",
   "id": "c6121b07-b089-4810-a4e3-5a7abfe4207c",
   "metadata": {},
   "source": [
    "*Defining a variable to the name of the company that I want to obtain data for, and finding the row in this dataset where the value in the Security colunn equals the name of the company, \"Netflix Inc.\".*"
   ]
  },
  {
   "cell_type": "code",
   "execution_count": 128,
   "id": "c3b25e98-2f09-4146-b9c0-70d69a98de4d",
   "metadata": {},
   "outputs": [
    {
     "name": "stdout",
     "output_type": "stream",
     "text": [
      "NFLX\n"
     ]
    }
   ],
   "source": [
    "company_name5 = \"Netflix Inc.\"\n",
    "selected_row5 = df2[df2['Security']==company_name5]\n",
    "ticker5 = selected_row5['Ticker symbol'].values[0]\n",
    "print(ticker5)"
   ]
  },
  {
   "cell_type": "markdown",
   "id": "b66c0f11-11f9-4804-92c2-29d7e129b0a0",
   "metadata": {},
   "source": [
    "### Dataset 1: \"Fundamentals\""
   ]
  },
  {
   "cell_type": "markdown",
   "id": "c8d28f7e-359b-4397-ac81-95bd56e49e58",
   "metadata": {},
   "source": [
    "*Reading in the previously cleaned \"Fundamentals\" file using pandas.*"
   ]
  },
  {
   "cell_type": "code",
   "execution_count": 129,
   "id": "34e156b6-ce3e-4ecb-a3a5-2d7fd2ba67c5",
   "metadata": {
    "scrolled": true
   },
   "outputs": [
    {
     "data": {
      "text/html": [
       "<div>\n",
       "<style scoped>\n",
       "    .dataframe tbody tr th:only-of-type {\n",
       "        vertical-align: middle;\n",
       "    }\n",
       "\n",
       "    .dataframe tbody tr th {\n",
       "        vertical-align: top;\n",
       "    }\n",
       "\n",
       "    .dataframe thead th {\n",
       "        text-align: right;\n",
       "    }\n",
       "</style>\n",
       "<table border=\"1\" class=\"dataframe\">\n",
       "  <thead>\n",
       "    <tr style=\"text-align: right;\">\n",
       "      <th></th>\n",
       "      <th>Unnamed: 0</th>\n",
       "      <th>Ticker Symbol</th>\n",
       "      <th>Period Ending</th>\n",
       "      <th>Gross Profit</th>\n",
       "      <th>Total Liabilities</th>\n",
       "      <th>Total Revenue</th>\n",
       "    </tr>\n",
       "  </thead>\n",
       "  <tbody>\n",
       "    <tr>\n",
       "      <th>0</th>\n",
       "      <td>0</td>\n",
       "      <td>AAL</td>\n",
       "      <td>2012-12-31</td>\n",
       "      <td>1.435600e+10</td>\n",
       "      <td>2.489100e+10</td>\n",
       "      <td>2.485500e+10</td>\n",
       "    </tr>\n",
       "    <tr>\n",
       "      <th>1</th>\n",
       "      <td>1</td>\n",
       "      <td>AAL</td>\n",
       "      <td>2013-12-31</td>\n",
       "      <td>1.572400e+10</td>\n",
       "      <td>4.500900e+10</td>\n",
       "      <td>2.674300e+10</td>\n",
       "    </tr>\n",
       "    <tr>\n",
       "      <th>2</th>\n",
       "      <td>2</td>\n",
       "      <td>AAL</td>\n",
       "      <td>2014-12-31</td>\n",
       "      <td>2.703000e+10</td>\n",
       "      <td>4.120400e+10</td>\n",
       "      <td>4.265000e+10</td>\n",
       "    </tr>\n",
       "    <tr>\n",
       "      <th>3</th>\n",
       "      <td>3</td>\n",
       "      <td>AAL</td>\n",
       "      <td>2015-12-31</td>\n",
       "      <td>2.989400e+10</td>\n",
       "      <td>4.278000e+10</td>\n",
       "      <td>4.099000e+10</td>\n",
       "    </tr>\n",
       "    <tr>\n",
       "      <th>4</th>\n",
       "      <td>4</td>\n",
       "      <td>AAP</td>\n",
       "      <td>2012-12-29</td>\n",
       "      <td>3.098036e+09</td>\n",
       "      <td>3.403120e+09</td>\n",
       "      <td>6.205003e+09</td>\n",
       "    </tr>\n",
       "    <tr>\n",
       "      <th>...</th>\n",
       "      <td>...</td>\n",
       "      <td>...</td>\n",
       "      <td>...</td>\n",
       "      <td>...</td>\n",
       "      <td>...</td>\n",
       "      <td>...</td>\n",
       "    </tr>\n",
       "    <tr>\n",
       "      <th>1776</th>\n",
       "      <td>1776</td>\n",
       "      <td>ZION</td>\n",
       "      <td>2015-12-31</td>\n",
       "      <td>0.000000e+00</td>\n",
       "      <td>5.216201e+10</td>\n",
       "      <td>2.210591e+09</td>\n",
       "    </tr>\n",
       "    <tr>\n",
       "      <th>1777</th>\n",
       "      <td>1777</td>\n",
       "      <td>ZTS</td>\n",
       "      <td>2013-12-31</td>\n",
       "      <td>2.892000e+09</td>\n",
       "      <td>5.618000e+09</td>\n",
       "      <td>4.561000e+09</td>\n",
       "    </tr>\n",
       "    <tr>\n",
       "      <th>1778</th>\n",
       "      <td>1778</td>\n",
       "      <td>ZTS</td>\n",
       "      <td>2014-12-31</td>\n",
       "      <td>3.068000e+09</td>\n",
       "      <td>5.277000e+09</td>\n",
       "      <td>4.785000e+09</td>\n",
       "    </tr>\n",
       "    <tr>\n",
       "      <th>1779</th>\n",
       "      <td>1779</td>\n",
       "      <td>ZTS</td>\n",
       "      <td>2015-12-31</td>\n",
       "      <td>3.027000e+09</td>\n",
       "      <td>6.845000e+09</td>\n",
       "      <td>4.765000e+09</td>\n",
       "    </tr>\n",
       "    <tr>\n",
       "      <th>1780</th>\n",
       "      <td>1780</td>\n",
       "      <td>ZTS</td>\n",
       "      <td>2016-12-31</td>\n",
       "      <td>3.222000e+09</td>\n",
       "      <td>6.162000e+09</td>\n",
       "      <td>4.888000e+09</td>\n",
       "    </tr>\n",
       "  </tbody>\n",
       "</table>\n",
       "<p>1781 rows × 6 columns</p>\n",
       "</div>"
      ],
      "text/plain": [
       "      Unnamed: 0 Ticker Symbol Period Ending  Gross Profit  Total Liabilities  \\\n",
       "0              0           AAL    2012-12-31  1.435600e+10       2.489100e+10   \n",
       "1              1           AAL    2013-12-31  1.572400e+10       4.500900e+10   \n",
       "2              2           AAL    2014-12-31  2.703000e+10       4.120400e+10   \n",
       "3              3           AAL    2015-12-31  2.989400e+10       4.278000e+10   \n",
       "4              4           AAP    2012-12-29  3.098036e+09       3.403120e+09   \n",
       "...          ...           ...           ...           ...                ...   \n",
       "1776        1776          ZION    2015-12-31  0.000000e+00       5.216201e+10   \n",
       "1777        1777           ZTS    2013-12-31  2.892000e+09       5.618000e+09   \n",
       "1778        1778           ZTS    2014-12-31  3.068000e+09       5.277000e+09   \n",
       "1779        1779           ZTS    2015-12-31  3.027000e+09       6.845000e+09   \n",
       "1780        1780           ZTS    2016-12-31  3.222000e+09       6.162000e+09   \n",
       "\n",
       "      Total Revenue  \n",
       "0      2.485500e+10  \n",
       "1      2.674300e+10  \n",
       "2      4.265000e+10  \n",
       "3      4.099000e+10  \n",
       "4      6.205003e+09  \n",
       "...             ...  \n",
       "1776   2.210591e+09  \n",
       "1777   4.561000e+09  \n",
       "1778   4.785000e+09  \n",
       "1779   4.765000e+09  \n",
       "1780   4.888000e+09  \n",
       "\n",
       "[1781 rows x 6 columns]"
      ]
     },
     "execution_count": 129,
     "metadata": {},
     "output_type": "execute_result"
    }
   ],
   "source": [
    "df = pd.read_csv('Fundamentals_Cleaned.csv')\n",
    "df"
   ]
  },
  {
   "cell_type": "markdown",
   "id": "c1141ab2-4ad1-45ca-8da9-3ed643f3ae80",
   "metadata": {},
   "source": [
    "*Defining a variable to the ticker symbol that I want to obtain data for from this dataset, and finding the rows in this dataset where the value in the Ticker Symbol column equals the ticker symbol, \"NFLX\".*"
   ]
  },
  {
   "cell_type": "code",
   "execution_count": 130,
   "id": "7a861607-6a40-416c-bfb7-e937e2b23e3d",
   "metadata": {},
   "outputs": [
    {
     "name": "stdout",
     "output_type": "stream",
     "text": [
      "      Unnamed: 0 Ticker Symbol Period Ending  Gross Profit  Total Liabilities  \\\n",
      "1148        1148          NFLX    2013-12-31  1.257359e+09       4.079002e+09   \n",
      "1149        1149          NFLX    2014-12-31  1.751896e+09       5.184792e+09   \n",
      "1150        1150          NFLX    2015-12-31  2.188035e+09       7.979445e+09   \n",
      "1151        1151          NFLX    2016-12-31  2.800768e+09       1.090681e+10   \n",
      "\n",
      "      Total Revenue  \n",
      "1148   4.374562e+09  \n",
      "1149   5.504656e+09  \n",
      "1150   6.779511e+09  \n",
      "1151   8.830669e+09  \n"
     ]
    }
   ],
   "source": [
    "ticker_symbol3 = \"NFLX\"\n",
    "selected_rows6 = df[df['Ticker Symbol']==ticker_symbol3]\n",
    "print(selected_rows6)"
   ]
  },
  {
   "cell_type": "markdown",
   "id": "f74268c6-2df3-4428-84e6-483c82c2a153",
   "metadata": {},
   "source": [
    "*Cleaning and defining the fundamentals dataset to a new dataset to include only the information that I found above.*"
   ]
  },
  {
   "cell_type": "code",
   "execution_count": 131,
   "id": "5e205928-296d-42b9-a92e-672c899e38aa",
   "metadata": {},
   "outputs": [
    {
     "data": {
      "text/html": [
       "<div>\n",
       "<style scoped>\n",
       "    .dataframe tbody tr th:only-of-type {\n",
       "        vertical-align: middle;\n",
       "    }\n",
       "\n",
       "    .dataframe tbody tr th {\n",
       "        vertical-align: top;\n",
       "    }\n",
       "\n",
       "    .dataframe thead th {\n",
       "        text-align: right;\n",
       "    }\n",
       "</style>\n",
       "<table border=\"1\" class=\"dataframe\">\n",
       "  <thead>\n",
       "    <tr style=\"text-align: right;\">\n",
       "      <th></th>\n",
       "      <th>Unnamed: 0</th>\n",
       "      <th>Ticker Symbol</th>\n",
       "      <th>Period Ending</th>\n",
       "      <th>Gross Profit</th>\n",
       "      <th>Total Liabilities</th>\n",
       "      <th>Total Revenue</th>\n",
       "    </tr>\n",
       "  </thead>\n",
       "  <tbody>\n",
       "    <tr>\n",
       "      <th>1148</th>\n",
       "      <td>1148</td>\n",
       "      <td>NFLX</td>\n",
       "      <td>2013-12-31</td>\n",
       "      <td>1.257359e+09</td>\n",
       "      <td>4.079002e+09</td>\n",
       "      <td>4.374562e+09</td>\n",
       "    </tr>\n",
       "    <tr>\n",
       "      <th>1149</th>\n",
       "      <td>1149</td>\n",
       "      <td>NFLX</td>\n",
       "      <td>2014-12-31</td>\n",
       "      <td>1.751896e+09</td>\n",
       "      <td>5.184792e+09</td>\n",
       "      <td>5.504656e+09</td>\n",
       "    </tr>\n",
       "    <tr>\n",
       "      <th>1150</th>\n",
       "      <td>1150</td>\n",
       "      <td>NFLX</td>\n",
       "      <td>2015-12-31</td>\n",
       "      <td>2.188035e+09</td>\n",
       "      <td>7.979445e+09</td>\n",
       "      <td>6.779511e+09</td>\n",
       "    </tr>\n",
       "    <tr>\n",
       "      <th>1151</th>\n",
       "      <td>1151</td>\n",
       "      <td>NFLX</td>\n",
       "      <td>2016-12-31</td>\n",
       "      <td>2.800768e+09</td>\n",
       "      <td>1.090681e+10</td>\n",
       "      <td>8.830669e+09</td>\n",
       "    </tr>\n",
       "  </tbody>\n",
       "</table>\n",
       "</div>"
      ],
      "text/plain": [
       "      Unnamed: 0 Ticker Symbol Period Ending  Gross Profit  Total Liabilities  \\\n",
       "1148        1148          NFLX    2013-12-31  1.257359e+09       4.079002e+09   \n",
       "1149        1149          NFLX    2014-12-31  1.751896e+09       5.184792e+09   \n",
       "1150        1150          NFLX    2015-12-31  2.188035e+09       7.979445e+09   \n",
       "1151        1151          NFLX    2016-12-31  2.800768e+09       1.090681e+10   \n",
       "\n",
       "      Total Revenue  \n",
       "1148   4.374562e+09  \n",
       "1149   5.504656e+09  \n",
       "1150   6.779511e+09  \n",
       "1151   8.830669e+09  "
      ]
     },
     "execution_count": 131,
     "metadata": {},
     "output_type": "execute_result"
    }
   ],
   "source": [
    "df8 = df[df['Ticker Symbol']=='NFLX']\n",
    "df8"
   ]
  },
  {
   "cell_type": "markdown",
   "id": "938d894f-34be-4a08-904b-4cd6f40ecd87",
   "metadata": {},
   "source": [
    "*Creating a new column \"Year\" in the df8 dataset that shows the value of only the year from the \"Period Ending\" column and naming it to a new dataset df9, and including only the row with the value of the \"Year\" column being 2014.*"
   ]
  },
  {
   "cell_type": "code",
   "execution_count": 133,
   "id": "cefc24cd-fb47-431a-a2cb-24a9f7ffff69",
   "metadata": {},
   "outputs": [
    {
     "name": "stderr",
     "output_type": "stream",
     "text": [
      "C:\\Users\\Elizabeth\\AppData\\Local\\Temp\\ipykernel_13836\\3298026479.py:1: SettingWithCopyWarning: \n",
      "A value is trying to be set on a copy of a slice from a DataFrame.\n",
      "Try using .loc[row_indexer,col_indexer] = value instead\n",
      "\n",
      "See the caveats in the documentation: https://pandas.pydata.org/pandas-docs/stable/user_guide/indexing.html#returning-a-view-versus-a-copy\n",
      "  df8['Year'] = df8['Period Ending'].str.split('-').str[0].astype(int)\n"
     ]
    },
    {
     "data": {
      "text/html": [
       "<div>\n",
       "<style scoped>\n",
       "    .dataframe tbody tr th:only-of-type {\n",
       "        vertical-align: middle;\n",
       "    }\n",
       "\n",
       "    .dataframe tbody tr th {\n",
       "        vertical-align: top;\n",
       "    }\n",
       "\n",
       "    .dataframe thead th {\n",
       "        text-align: right;\n",
       "    }\n",
       "</style>\n",
       "<table border=\"1\" class=\"dataframe\">\n",
       "  <thead>\n",
       "    <tr style=\"text-align: right;\">\n",
       "      <th></th>\n",
       "      <th>Unnamed: 0</th>\n",
       "      <th>Ticker Symbol</th>\n",
       "      <th>Period Ending</th>\n",
       "      <th>Gross Profit</th>\n",
       "      <th>Total Liabilities</th>\n",
       "      <th>Total Revenue</th>\n",
       "      <th>Year</th>\n",
       "    </tr>\n",
       "  </thead>\n",
       "  <tbody>\n",
       "    <tr>\n",
       "      <th>1149</th>\n",
       "      <td>1149</td>\n",
       "      <td>NFLX</td>\n",
       "      <td>2014-12-31</td>\n",
       "      <td>1.751896e+09</td>\n",
       "      <td>5.184792e+09</td>\n",
       "      <td>5.504656e+09</td>\n",
       "      <td>2014</td>\n",
       "    </tr>\n",
       "  </tbody>\n",
       "</table>\n",
       "</div>"
      ],
      "text/plain": [
       "      Unnamed: 0 Ticker Symbol Period Ending  Gross Profit  Total Liabilities  \\\n",
       "1149        1149          NFLX    2014-12-31  1.751896e+09       5.184792e+09   \n",
       "\n",
       "      Total Revenue  Year  \n",
       "1149   5.504656e+09  2014  "
      ]
     },
     "execution_count": 133,
     "metadata": {},
     "output_type": "execute_result"
    }
   ],
   "source": [
    "df8['Year'] = df8['Period Ending'].str.split('-').str[0].astype(int)\n",
    "df9 = df8[df8['Year'] == 2014]\n",
    "df9"
   ]
  },
  {
   "cell_type": "markdown",
   "id": "a05e885c-2d83-43fc-9dfa-545f9752d47a",
   "metadata": {},
   "source": [
    "*Extracting the value from df9 the value in the \"Total Liabilities\" column and defining it to a new variable \"total_liabilities\" and printing it.*"
   ]
  },
  {
   "cell_type": "code",
   "execution_count": 134,
   "id": "eb1e7784-0585-4859-a019-6db18ce74885",
   "metadata": {},
   "outputs": [
    {
     "name": "stdout",
     "output_type": "stream",
     "text": [
      "5184792000.0\n"
     ]
    }
   ],
   "source": [
    "total_liabilities = df9['Total Liabilities'].values[0]\n",
    "print(total_liabilities)"
   ]
  },
  {
   "cell_type": "markdown",
   "id": "21265e0d-79f7-4861-9981-826639987efb",
   "metadata": {},
   "source": [
    "**Answer: The total liabilities of Netflix Inc. in 2014 was 5184792000.0.**"
   ]
  },
  {
   "cell_type": "markdown",
   "id": "ccaf48e0-bfe3-44f7-851a-55a40cf105a7",
   "metadata": {},
   "source": [
    "*Creating and displaying a bar graph with the \"Year\" of the new dataset on the x-axis, and the \"Total Liabilities\" of the new dataset on the y axis, along with axis and title labels, colors, and other structural details.*"
   ]
  },
  {
   "cell_type": "code",
   "execution_count": 135,
   "id": "ab5f707d-b3ab-4e6a-b893-136348b2056d",
   "metadata": {},
   "outputs": [
    {
     "data": {
      "image/png": "[encoded data removed]",
      "text/plain": [
       "<Figure size 800x600 with 1 Axes>"
      ]
     },
     "metadata": {},
     "output_type": "display_data"
    }
   ],
   "source": [
    "colors = ['forestgreen', 'gold', 'royalblue', 'darkorchid']\n",
    "plt.figure(figsize=(8,6))\n",
    "plt.bar(df8['Year'], df8['Total Liabilities'], color=colors)\n",
    "plt.xlabel('Year')\n",
    "plt.ylabel('Total Liabilties')\n",
    "plt.title('Total Liabilities of Each Year of Netflix Inc. from 2013 to 2016')\n",
    "plt.xticks(rotation=45)\n",
    "plt.tight_layout()\n",
    "plt.show()"
   ]
  },
  {
   "cell_type": "code",
   "execution_count": null,
   "id": "2d060ae8-2ce6-40eb-a585-0e9c03a78150",
   "metadata": {},
   "outputs": [],
   "source": []
  }
 ],
 "metadata": {
  "kernelspec": {
   "display_name": "Python 3 (ipykernel)",
   "language": "python",
   "name": "python3"
  },
  "language_info": {
   "codemirror_mode": {
    "name": "ipython",
    "version": 3
   },
   "file_extension": ".py",
   "mimetype": "text/x-python",
   "name": "python",
   "nbconvert_exporter": "python",
   "pygments_lexer": "ipython3",
   "version": "3.11.7"
  }
 },
 "nbformat": 4,
 "nbformat_minor": 5
}
