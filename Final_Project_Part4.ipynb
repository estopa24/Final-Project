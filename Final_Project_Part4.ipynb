{
 "cells": [
  {
   "cell_type": "markdown",
   "id": "02be92cc-11d6-4c24-99f6-5e66617fcbbc",
   "metadata": {},
   "source": [
    "**Elizabeth Stopa**"
   ]
  },
  {
   "cell_type": "markdown",
   "id": "6562eef9-5fa5-40cb-a5a2-df7cc3c9862d",
   "metadata": {},
   "source": [
    "**04/29/2024**"
   ]
  },
  {
   "cell_type": "markdown",
   "id": "4b9bb062-45a8-495c-bb2e-dee487dc909b",
   "metadata": {},
   "source": [
    "# Final Project Part 4"
   ]
  },
  {
   "cell_type": "markdown",
   "id": "c629c1c3-26bc-4a17-a8fa-55a793a3b1f2",
   "metadata": {},
   "source": [
    "### This milestone of the final project will be to read in the datasets that were previously cleaned in the last milestone of the project, and then aggregate functions will be performed on these datasets in order to answer two of the questions listed below. In this notebook, a few more temporary cleaning steps were added in order to better obtain the data needed to answer the questions. Plots were then created to represent the answers to the two questions in a more visual format."
   ]
  },
  {
   "cell_type": "markdown",
   "id": "dee27c34-f6e9-4b98-95d3-517919dadbe6",
   "metadata": {},
   "source": [
    "**The original datasets used in this final project were taken from Kaggle.com and are included here: \n",
    "https://www.kaggle.com/datasets/dgawlik/nyse?resource=download&select=prices.csv**\n",
    "\n",
    "**Previously cleaned datasets from the last milestone of the project \"Securities_Cleaned.csv\" and \"Fundamentals_Cleaned.csv\" are also included and read in as pandas dataframes, and used in both questions.** "
   ]
  },
  {
   "cell_type": "markdown",
   "id": "eef47f83-4346-46d5-89d5-810e35c93322",
   "metadata": {},
   "source": [
    "*Cited Sources: chatGPT, StackOverflow*"
   ]
  },
  {
   "cell_type": "markdown",
   "id": "c1ef1bfe-46b5-4411-9b74-6811e27272c1",
   "metadata": {},
   "source": [
    "**Questions**\n",
    "1. What date did Aetna Inc have the highest \"high\" in 2016?\n",
    "2. Which company had the lowest \"low\" in March of 2013?\n",
    "3. What was the average gross profit of General Motors between 2013 and 2016?\n",
    "4. What was the average total revenue of Amazon.com Inc from 2013 to 2016?\n",
    "5. What was the total liability of Netflix Inc. in 2014?"
   ]
  },
  {
   "cell_type": "markdown",
   "id": "a03663a8-b92e-4db9-b7aa-e123a5a2651e",
   "metadata": {},
   "source": [
    "*Importing pandas to read in the previously cleaned and saved datasets, and to do some additional cleaning to better aggregate the data. Importing matplotlib.pyplot to make plots to visualize the answers to the questions.*"
   ]
  },
  {
   "cell_type": "code",
   "execution_count": 26,
   "id": "0e9fd3ee-6ac1-4637-9072-7488f51ea439",
   "metadata": {},
   "outputs": [],
   "source": [
    "import pandas as pd\n",
    "import matplotlib.pyplot as plt"
   ]
  },
  {
   "cell_type": "markdown",
   "id": "a2a17097-93f0-4d58-bc86-7e0ee5509d25",
   "metadata": {},
   "source": [
    "## **Question 3: What was the average gross profit of General Motors between 2013 and 2016?**"
   ]
  },
  {
   "cell_type": "markdown",
   "id": "b71bcc36-61bb-40d4-bd3c-c05c7508f847",
   "metadata": {},
   "source": [
    "### Dataset 2: \"Securities\""
   ]
  },
  {
   "cell_type": "markdown",
   "id": "c80a36ca-04d8-4a96-8a29-c851edc0feda",
   "metadata": {},
   "source": [
    "*Reading in the previously cleaned \"Securities\" file using pandas.*"
   ]
  },
  {
   "cell_type": "code",
   "execution_count": 27,
   "id": "6fa96ea2-dc81-446c-84f1-ecd9a1071bc9",
   "metadata": {},
   "outputs": [
    {
     "data": {
      "text/html": [
       "<div>\n",
       "<style scoped>\n",
       "    .dataframe tbody tr th:only-of-type {\n",
       "        vertical-align: middle;\n",
       "    }\n",
       "\n",
       "    .dataframe tbody tr th {\n",
       "        vertical-align: top;\n",
       "    }\n",
       "\n",
       "    .dataframe thead th {\n",
       "        text-align: right;\n",
       "    }\n",
       "</style>\n",
       "<table border=\"1\" class=\"dataframe\">\n",
       "  <thead>\n",
       "    <tr style=\"text-align: right;\">\n",
       "      <th></th>\n",
       "      <th>Unnamed: 0</th>\n",
       "      <th>Ticker symbol</th>\n",
       "      <th>Security</th>\n",
       "    </tr>\n",
       "  </thead>\n",
       "  <tbody>\n",
       "    <tr>\n",
       "      <th>0</th>\n",
       "      <td>0</td>\n",
       "      <td>MMM</td>\n",
       "      <td>3M Company</td>\n",
       "    </tr>\n",
       "    <tr>\n",
       "      <th>1</th>\n",
       "      <td>1</td>\n",
       "      <td>ABT</td>\n",
       "      <td>Abbott Laboratories</td>\n",
       "    </tr>\n",
       "    <tr>\n",
       "      <th>2</th>\n",
       "      <td>2</td>\n",
       "      <td>ABBV</td>\n",
       "      <td>AbbVie</td>\n",
       "    </tr>\n",
       "    <tr>\n",
       "      <th>3</th>\n",
       "      <td>3</td>\n",
       "      <td>ACN</td>\n",
       "      <td>Accenture plc</td>\n",
       "    </tr>\n",
       "    <tr>\n",
       "      <th>4</th>\n",
       "      <td>4</td>\n",
       "      <td>ATVI</td>\n",
       "      <td>Activision Blizzard</td>\n",
       "    </tr>\n",
       "    <tr>\n",
       "      <th>...</th>\n",
       "      <td>...</td>\n",
       "      <td>...</td>\n",
       "      <td>...</td>\n",
       "    </tr>\n",
       "    <tr>\n",
       "      <th>500</th>\n",
       "      <td>500</td>\n",
       "      <td>YHOO</td>\n",
       "      <td>Yahoo Inc.</td>\n",
       "    </tr>\n",
       "    <tr>\n",
       "      <th>501</th>\n",
       "      <td>501</td>\n",
       "      <td>YUM</td>\n",
       "      <td>Yum! Brands Inc</td>\n",
       "    </tr>\n",
       "    <tr>\n",
       "      <th>502</th>\n",
       "      <td>502</td>\n",
       "      <td>ZBH</td>\n",
       "      <td>Zimmer Biomet Holdings</td>\n",
       "    </tr>\n",
       "    <tr>\n",
       "      <th>503</th>\n",
       "      <td>503</td>\n",
       "      <td>ZION</td>\n",
       "      <td>Zions Bancorp</td>\n",
       "    </tr>\n",
       "    <tr>\n",
       "      <th>504</th>\n",
       "      <td>504</td>\n",
       "      <td>ZTS</td>\n",
       "      <td>Zoetis</td>\n",
       "    </tr>\n",
       "  </tbody>\n",
       "</table>\n",
       "<p>505 rows × 3 columns</p>\n",
       "</div>"
      ],
      "text/plain": [
       "     Unnamed: 0 Ticker symbol                Security\n",
       "0             0           MMM              3M Company\n",
       "1             1           ABT     Abbott Laboratories\n",
       "2             2          ABBV                  AbbVie\n",
       "3             3           ACN           Accenture plc\n",
       "4             4          ATVI     Activision Blizzard\n",
       "..          ...           ...                     ...\n",
       "500         500          YHOO              Yahoo Inc.\n",
       "501         501           YUM         Yum! Brands Inc\n",
       "502         502           ZBH  Zimmer Biomet Holdings\n",
       "503         503          ZION           Zions Bancorp\n",
       "504         504           ZTS                  Zoetis\n",
       "\n",
       "[505 rows x 3 columns]"
      ]
     },
     "execution_count": 27,
     "metadata": {},
     "output_type": "execute_result"
    }
   ],
   "source": [
    "df2 = pd.read_csv('Securities_Cleaned.csv')\n",
    "df2"
   ]
  },
  {
   "cell_type": "markdown",
   "id": "93129c74-59c1-4e98-a99a-9b63112bc5ed",
   "metadata": {},
   "source": [
    "*Defining a variable to the name of the company that I want to obtain data for, and finding the row in this dataset where the value in the Security colunn equals the name of the company, \"General Motors\".*"
   ]
  },
  {
   "cell_type": "code",
   "execution_count": 28,
   "id": "b5aae16a-1717-444f-b5d7-de82c55ccabc",
   "metadata": {},
   "outputs": [
    {
     "name": "stdout",
     "output_type": "stream",
     "text": [
      "     Unnamed: 0 Ticker symbol        Security\n",
      "208         208            GM  General Motors\n"
     ]
    }
   ],
   "source": [
    "company_name = \"General Motors\"\n",
    "selected_row = df2[df2['Security']==company_name]\n",
    "print(selected_row)"
   ]
  },
  {
   "cell_type": "markdown",
   "id": "b53a593d-2927-49f9-bb94-58ce792ba526",
   "metadata": {},
   "source": [
    "*This shows that the Ticker symbol for Goldman Sachs Group is 'GS', which will be used to find information on the company in the Fundamentals dataset.*"
   ]
  },
  {
   "cell_type": "markdown",
   "id": "e7b9156d-12c6-4f87-bbe9-e30e2fce5201",
   "metadata": {},
   "source": [
    "### Dataset 1: \"Fundamentals\""
   ]
  },
  {
   "cell_type": "markdown",
   "id": "6e67d934-22eb-4e48-b7c8-876a2d860395",
   "metadata": {},
   "source": [
    "*Reading in the previously cleaned \"Fundamentals\" file using pandas.*"
   ]
  },
  {
   "cell_type": "code",
   "execution_count": 29,
   "id": "fd448b9c-3300-4125-98d1-c0c6100fe935",
   "metadata": {},
   "outputs": [
    {
     "data": {
      "text/html": [
       "<div>\n",
       "<style scoped>\n",
       "    .dataframe tbody tr th:only-of-type {\n",
       "        vertical-align: middle;\n",
       "    }\n",
       "\n",
       "    .dataframe tbody tr th {\n",
       "        vertical-align: top;\n",
       "    }\n",
       "\n",
       "    .dataframe thead th {\n",
       "        text-align: right;\n",
       "    }\n",
       "</style>\n",
       "<table border=\"1\" class=\"dataframe\">\n",
       "  <thead>\n",
       "    <tr style=\"text-align: right;\">\n",
       "      <th></th>\n",
       "      <th>Unnamed: 0</th>\n",
       "      <th>Ticker Symbol</th>\n",
       "      <th>Period Ending</th>\n",
       "      <th>Gross Profit</th>\n",
       "      <th>Total Liabilities</th>\n",
       "      <th>Total Revenue</th>\n",
       "    </tr>\n",
       "  </thead>\n",
       "  <tbody>\n",
       "    <tr>\n",
       "      <th>0</th>\n",
       "      <td>0</td>\n",
       "      <td>AAL</td>\n",
       "      <td>2012-12-31</td>\n",
       "      <td>1.435600e+10</td>\n",
       "      <td>2.489100e+10</td>\n",
       "      <td>2.485500e+10</td>\n",
       "    </tr>\n",
       "    <tr>\n",
       "      <th>1</th>\n",
       "      <td>1</td>\n",
       "      <td>AAL</td>\n",
       "      <td>2013-12-31</td>\n",
       "      <td>1.572400e+10</td>\n",
       "      <td>4.500900e+10</td>\n",
       "      <td>2.674300e+10</td>\n",
       "    </tr>\n",
       "    <tr>\n",
       "      <th>2</th>\n",
       "      <td>2</td>\n",
       "      <td>AAL</td>\n",
       "      <td>2014-12-31</td>\n",
       "      <td>2.703000e+10</td>\n",
       "      <td>4.120400e+10</td>\n",
       "      <td>4.265000e+10</td>\n",
       "    </tr>\n",
       "    <tr>\n",
       "      <th>3</th>\n",
       "      <td>3</td>\n",
       "      <td>AAL</td>\n",
       "      <td>2015-12-31</td>\n",
       "      <td>2.989400e+10</td>\n",
       "      <td>4.278000e+10</td>\n",
       "      <td>4.099000e+10</td>\n",
       "    </tr>\n",
       "    <tr>\n",
       "      <th>4</th>\n",
       "      <td>4</td>\n",
       "      <td>AAP</td>\n",
       "      <td>2012-12-29</td>\n",
       "      <td>3.098036e+09</td>\n",
       "      <td>3.403120e+09</td>\n",
       "      <td>6.205003e+09</td>\n",
       "    </tr>\n",
       "    <tr>\n",
       "      <th>...</th>\n",
       "      <td>...</td>\n",
       "      <td>...</td>\n",
       "      <td>...</td>\n",
       "      <td>...</td>\n",
       "      <td>...</td>\n",
       "      <td>...</td>\n",
       "    </tr>\n",
       "    <tr>\n",
       "      <th>1776</th>\n",
       "      <td>1776</td>\n",
       "      <td>ZION</td>\n",
       "      <td>2015-12-31</td>\n",
       "      <td>0.000000e+00</td>\n",
       "      <td>5.216201e+10</td>\n",
       "      <td>2.210591e+09</td>\n",
       "    </tr>\n",
       "    <tr>\n",
       "      <th>1777</th>\n",
       "      <td>1777</td>\n",
       "      <td>ZTS</td>\n",
       "      <td>2013-12-31</td>\n",
       "      <td>2.892000e+09</td>\n",
       "      <td>5.618000e+09</td>\n",
       "      <td>4.561000e+09</td>\n",
       "    </tr>\n",
       "    <tr>\n",
       "      <th>1778</th>\n",
       "      <td>1778</td>\n",
       "      <td>ZTS</td>\n",
       "      <td>2014-12-31</td>\n",
       "      <td>3.068000e+09</td>\n",
       "      <td>5.277000e+09</td>\n",
       "      <td>4.785000e+09</td>\n",
       "    </tr>\n",
       "    <tr>\n",
       "      <th>1779</th>\n",
       "      <td>1779</td>\n",
       "      <td>ZTS</td>\n",
       "      <td>2015-12-31</td>\n",
       "      <td>3.027000e+09</td>\n",
       "      <td>6.845000e+09</td>\n",
       "      <td>4.765000e+09</td>\n",
       "    </tr>\n",
       "    <tr>\n",
       "      <th>1780</th>\n",
       "      <td>1780</td>\n",
       "      <td>ZTS</td>\n",
       "      <td>2016-12-31</td>\n",
       "      <td>3.222000e+09</td>\n",
       "      <td>6.162000e+09</td>\n",
       "      <td>4.888000e+09</td>\n",
       "    </tr>\n",
       "  </tbody>\n",
       "</table>\n",
       "<p>1781 rows × 6 columns</p>\n",
       "</div>"
      ],
      "text/plain": [
       "      Unnamed: 0 Ticker Symbol Period Ending  Gross Profit  Total Liabilities  \\\n",
       "0              0           AAL    2012-12-31  1.435600e+10       2.489100e+10   \n",
       "1              1           AAL    2013-12-31  1.572400e+10       4.500900e+10   \n",
       "2              2           AAL    2014-12-31  2.703000e+10       4.120400e+10   \n",
       "3              3           AAL    2015-12-31  2.989400e+10       4.278000e+10   \n",
       "4              4           AAP    2012-12-29  3.098036e+09       3.403120e+09   \n",
       "...          ...           ...           ...           ...                ...   \n",
       "1776        1776          ZION    2015-12-31  0.000000e+00       5.216201e+10   \n",
       "1777        1777           ZTS    2013-12-31  2.892000e+09       5.618000e+09   \n",
       "1778        1778           ZTS    2014-12-31  3.068000e+09       5.277000e+09   \n",
       "1779        1779           ZTS    2015-12-31  3.027000e+09       6.845000e+09   \n",
       "1780        1780           ZTS    2016-12-31  3.222000e+09       6.162000e+09   \n",
       "\n",
       "      Total Revenue  \n",
       "0      2.485500e+10  \n",
       "1      2.674300e+10  \n",
       "2      4.265000e+10  \n",
       "3      4.099000e+10  \n",
       "4      6.205003e+09  \n",
       "...             ...  \n",
       "1776   2.210591e+09  \n",
       "1777   4.561000e+09  \n",
       "1778   4.785000e+09  \n",
       "1779   4.765000e+09  \n",
       "1780   4.888000e+09  \n",
       "\n",
       "[1781 rows x 6 columns]"
      ]
     },
     "execution_count": 29,
     "metadata": {},
     "output_type": "execute_result"
    }
   ],
   "source": [
    "df = pd.read_csv('Fundamentals_Cleaned.csv')\n",
    "df"
   ]
  },
  {
   "cell_type": "markdown",
   "id": "e5259fc8-84aa-4b3c-85b6-abd1f8683896",
   "metadata": {},
   "source": [
    "*Defining a variable to the ticker symbol that I want to obtain data for from this dataset, and finding the rows in this dataset where the value in the Ticker Symbol column equals the ticker symbol, \"GM\".*"
   ]
  },
  {
   "cell_type": "code",
   "execution_count": 30,
   "id": "68e12cc4-0670-4c0f-851e-d87e137a0838",
   "metadata": {},
   "outputs": [
    {
     "name": "stdout",
     "output_type": "stream",
     "text": [
      "     Unnamed: 0 Ticker Symbol Period Ending  Gross Profit  Total Liabilities  \\\n",
      "700         700            GM    2013-12-31  1.805400e+10       1.237370e+11   \n",
      "701         701            GM    2014-12-31  1.380800e+10       1.420440e+11   \n",
      "702         702            GM    2015-12-31  1.830200e+10       1.544670e+11   \n",
      "703         703            GM    2016-12-31  2.125500e+10       1.778540e+11   \n",
      "\n",
      "     Total Revenue  \n",
      "700   1.554270e+11  \n",
      "701   1.559290e+11  \n",
      "702   1.523560e+11  \n",
      "703   1.663800e+11  \n"
     ]
    }
   ],
   "source": [
    "ticker_symbol = \"GM\"\n",
    "selected_rows = df[df['Ticker Symbol']==ticker_symbol]\n",
    "print(selected_rows)"
   ]
  },
  {
   "cell_type": "markdown",
   "id": "f365bbe6-1a4a-4eca-b11b-127b8344fe3b",
   "metadata": {},
   "source": [
    "*Cleaning and defining the fundamentals dataset to a new dataset to include only the information that I found above.*"
   ]
  },
  {
   "cell_type": "code",
   "execution_count": 33,
   "id": "0d16d519-ca65-4b3d-b1d1-f1e46a1bb3d1",
   "metadata": {},
   "outputs": [
    {
     "data": {
      "text/html": [
       "<div>\n",
       "<style scoped>\n",
       "    .dataframe tbody tr th:only-of-type {\n",
       "        vertical-align: middle;\n",
       "    }\n",
       "\n",
       "    .dataframe tbody tr th {\n",
       "        vertical-align: top;\n",
       "    }\n",
       "\n",
       "    .dataframe thead th {\n",
       "        text-align: right;\n",
       "    }\n",
       "</style>\n",
       "<table border=\"1\" class=\"dataframe\">\n",
       "  <thead>\n",
       "    <tr style=\"text-align: right;\">\n",
       "      <th></th>\n",
       "      <th>Unnamed: 0</th>\n",
       "      <th>Ticker Symbol</th>\n",
       "      <th>Period Ending</th>\n",
       "      <th>Gross Profit</th>\n",
       "      <th>Total Liabilities</th>\n",
       "      <th>Total Revenue</th>\n",
       "    </tr>\n",
       "  </thead>\n",
       "  <tbody>\n",
       "    <tr>\n",
       "      <th>700</th>\n",
       "      <td>700</td>\n",
       "      <td>GM</td>\n",
       "      <td>2013-12-31</td>\n",
       "      <td>1.805400e+10</td>\n",
       "      <td>1.237370e+11</td>\n",
       "      <td>1.554270e+11</td>\n",
       "    </tr>\n",
       "    <tr>\n",
       "      <th>701</th>\n",
       "      <td>701</td>\n",
       "      <td>GM</td>\n",
       "      <td>2014-12-31</td>\n",
       "      <td>1.380800e+10</td>\n",
       "      <td>1.420440e+11</td>\n",
       "      <td>1.559290e+11</td>\n",
       "    </tr>\n",
       "    <tr>\n",
       "      <th>702</th>\n",
       "      <td>702</td>\n",
       "      <td>GM</td>\n",
       "      <td>2015-12-31</td>\n",
       "      <td>1.830200e+10</td>\n",
       "      <td>1.544670e+11</td>\n",
       "      <td>1.523560e+11</td>\n",
       "    </tr>\n",
       "    <tr>\n",
       "      <th>703</th>\n",
       "      <td>703</td>\n",
       "      <td>GM</td>\n",
       "      <td>2016-12-31</td>\n",
       "      <td>2.125500e+10</td>\n",
       "      <td>1.778540e+11</td>\n",
       "      <td>1.663800e+11</td>\n",
       "    </tr>\n",
       "  </tbody>\n",
       "</table>\n",
       "</div>"
      ],
      "text/plain": [
       "     Unnamed: 0 Ticker Symbol Period Ending  Gross Profit  Total Liabilities  \\\n",
       "700         700            GM    2013-12-31  1.805400e+10       1.237370e+11   \n",
       "701         701            GM    2014-12-31  1.380800e+10       1.420440e+11   \n",
       "702         702            GM    2015-12-31  1.830200e+10       1.544670e+11   \n",
       "703         703            GM    2016-12-31  2.125500e+10       1.778540e+11   \n",
       "\n",
       "     Total Revenue  \n",
       "700   1.554270e+11  \n",
       "701   1.559290e+11  \n",
       "702   1.523560e+11  \n",
       "703   1.663800e+11  "
      ]
     },
     "execution_count": 33,
     "metadata": {},
     "output_type": "execute_result"
    }
   ],
   "source": [
    "df3 = df[df['Ticker Symbol']=='GM']\n",
    "df3"
   ]
  },
  {
   "cell_type": "markdown",
   "id": "b26ac328-2f1c-4f8e-a6e8-51cf77131377",
   "metadata": {},
   "source": [
    "*Calculating and printing the average of values in the \"Gross Profit\" column in this new dataset.*"
   ]
  },
  {
   "cell_type": "code",
   "execution_count": 39,
   "id": "5e03930c-2dee-4fbd-bbfd-0e4c06736b41",
   "metadata": {},
   "outputs": [
    {
     "data": {
      "text/plain": [
       "17854750000.0"
      ]
     },
     "execution_count": 39,
     "metadata": {},
     "output_type": "execute_result"
    }
   ],
   "source": [
    "average = df3['Gross Profit'].mean()\n",
    "average"
   ]
  },
  {
   "cell_type": "markdown",
   "id": "55cccb2f-7764-4072-acfc-2cd9c3a0ff52",
   "metadata": {},
   "source": [
    "**The average gross profit that General Motors had from 2013 to 2016 was $17854750000.0.**"
   ]
  },
  {
   "cell_type": "markdown",
   "id": "fddb2ef5-7a36-46b2-bc3f-8d4be6c9d413",
   "metadata": {},
   "source": [
    "*Creating and displaying a bar graph with the \"Period Ending\" of the new dataset on the x-axis, and the \"Gross Profit\" of the new dataset on the y axis, along with axis and title labels, colors, and other structural details.*"
   ]
  },
  {
   "cell_type": "code",
   "execution_count": 40,
   "id": "22d2474d-32c6-4bf2-9179-5a0551f20e19",
   "metadata": {},
   "outputs": [
    {
     "data": {
      "image/png": "[encoded data removed]",
      "text/plain": [
       "<Figure size 800x600 with 1 Axes>"
      ]
     },
     "metadata": {},
     "output_type": "display_data"
    }
   ],
   "source": [
    "colors = ['blue', 'orange', 'green', 'red']\n",
    "plt.figure(figsize=(8,6))\n",
    "plt.bar(df3['Period Ending'], df3['Gross Profit'], color=colors)\n",
    "plt.xlabel('Period Ending of Year')\n",
    "plt.ylabel('Gross Profit')\n",
    "plt.title('Gross Profit at Period Ending of Each Year of General Motors from 2013 to 2016')\n",
    "plt.xticks(rotation=45)\n",
    "plt.tight_layout()\n",
    "plt.show()"
   ]
  },
  {
   "cell_type": "markdown",
   "id": "8ea62df9-d195-4948-9fe8-8b99b979d0cc",
   "metadata": {},
   "source": [
    "## **What was the average total revenue of Amazon.com Inc from 2013 to 2016?**"
   ]
  },
  {
   "cell_type": "markdown",
   "id": "cc671ccb-5354-4b04-8481-6f46dc701b9e",
   "metadata": {},
   "source": [
    "*Defining a variable to the name of the company that I want to obtain data for, and finding the row in this dataset where the value in the Security colunn equals the name of the company, \"Amazon.com Inc\".*"
   ]
  },
  {
   "cell_type": "code",
   "execution_count": 36,
   "id": "1c7792ef-f1c4-40e5-9dfe-4e3053b7a733",
   "metadata": {},
   "outputs": [
    {
     "name": "stdout",
     "output_type": "stream",
     "text": [
      "    Unnamed: 0 Ticker symbol        Security\n",
      "26          26          AMZN  Amazon.com Inc\n"
     ]
    }
   ],
   "source": [
    "company_name2 = \"Amazon.com Inc\"\n",
    "selected_row2 = df2[df2['Security']==company_name2]\n",
    "print(selected_row2)"
   ]
  },
  {
   "cell_type": "markdown",
   "id": "65943f42-62e0-4969-b0b5-19eb7486e2bf",
   "metadata": {},
   "source": [
    "*Defining a variable to the ticker symbol that I want to obtain data for from this dataset, and finding the rows in this dataset where the value in the Ticker Symbol column equals the ticker symbol, \"AMZN\".*"
   ]
  },
  {
   "cell_type": "code",
   "execution_count": 37,
   "id": "7c773bda-ca72-48a3-9f60-e144060d4112",
   "metadata": {},
   "outputs": [
    {
     "name": "stdout",
     "output_type": "stream",
     "text": [
      "     Unnamed: 0 Ticker Symbol Period Ending  Gross Profit  Total Liabilities  \\\n",
      "120         120          AMZN    2013-12-31  2.027100e+10       3.041300e+10   \n",
      "121         121          AMZN    2014-12-31  2.623600e+10       4.376400e+10   \n",
      "122         122          AMZN    2015-12-31  3.535500e+10       5.136300e+10   \n",
      "123         123          AMZN    2016-12-31  4.772200e+10       6.411700e+10   \n",
      "\n",
      "     Total Revenue  \n",
      "120   7.445200e+10  \n",
      "121   8.898800e+10  \n",
      "122   1.070060e+11  \n",
      "123   1.359870e+11  \n"
     ]
    }
   ],
   "source": [
    "ticker_symbol2 = \"AMZN\"\n",
    "selected_rows2 = df[df['Ticker Symbol']==ticker_symbol2]\n",
    "print(selected_rows2)"
   ]
  },
  {
   "cell_type": "markdown",
   "id": "e471cfcc-e8a4-4cff-bb77-2feffe2e1356",
   "metadata": {},
   "source": [
    "*Cleaning and defining the fundamentals dataset to a new dataset to include only the information that I found above.*"
   ]
  },
  {
   "cell_type": "code",
   "execution_count": 41,
   "id": "58f0196a-9f38-48eb-9123-7141d0eed889",
   "metadata": {},
   "outputs": [
    {
     "data": {
      "text/html": [
       "<div>\n",
       "<style scoped>\n",
       "    .dataframe tbody tr th:only-of-type {\n",
       "        vertical-align: middle;\n",
       "    }\n",
       "\n",
       "    .dataframe tbody tr th {\n",
       "        vertical-align: top;\n",
       "    }\n",
       "\n",
       "    .dataframe thead th {\n",
       "        text-align: right;\n",
       "    }\n",
       "</style>\n",
       "<table border=\"1\" class=\"dataframe\">\n",
       "  <thead>\n",
       "    <tr style=\"text-align: right;\">\n",
       "      <th></th>\n",
       "      <th>Unnamed: 0</th>\n",
       "      <th>Ticker Symbol</th>\n",
       "      <th>Period Ending</th>\n",
       "      <th>Gross Profit</th>\n",
       "      <th>Total Liabilities</th>\n",
       "      <th>Total Revenue</th>\n",
       "    </tr>\n",
       "  </thead>\n",
       "  <tbody>\n",
       "    <tr>\n",
       "      <th>120</th>\n",
       "      <td>120</td>\n",
       "      <td>AMZN</td>\n",
       "      <td>2013-12-31</td>\n",
       "      <td>2.027100e+10</td>\n",
       "      <td>3.041300e+10</td>\n",
       "      <td>7.445200e+10</td>\n",
       "    </tr>\n",
       "    <tr>\n",
       "      <th>121</th>\n",
       "      <td>121</td>\n",
       "      <td>AMZN</td>\n",
       "      <td>2014-12-31</td>\n",
       "      <td>2.623600e+10</td>\n",
       "      <td>4.376400e+10</td>\n",
       "      <td>8.898800e+10</td>\n",
       "    </tr>\n",
       "    <tr>\n",
       "      <th>122</th>\n",
       "      <td>122</td>\n",
       "      <td>AMZN</td>\n",
       "      <td>2015-12-31</td>\n",
       "      <td>3.535500e+10</td>\n",
       "      <td>5.136300e+10</td>\n",
       "      <td>1.070060e+11</td>\n",
       "    </tr>\n",
       "    <tr>\n",
       "      <th>123</th>\n",
       "      <td>123</td>\n",
       "      <td>AMZN</td>\n",
       "      <td>2016-12-31</td>\n",
       "      <td>4.772200e+10</td>\n",
       "      <td>6.411700e+10</td>\n",
       "      <td>1.359870e+11</td>\n",
       "    </tr>\n",
       "  </tbody>\n",
       "</table>\n",
       "</div>"
      ],
      "text/plain": [
       "     Unnamed: 0 Ticker Symbol Period Ending  Gross Profit  Total Liabilities  \\\n",
       "120         120          AMZN    2013-12-31  2.027100e+10       3.041300e+10   \n",
       "121         121          AMZN    2014-12-31  2.623600e+10       4.376400e+10   \n",
       "122         122          AMZN    2015-12-31  3.535500e+10       5.136300e+10   \n",
       "123         123          AMZN    2016-12-31  4.772200e+10       6.411700e+10   \n",
       "\n",
       "     Total Revenue  \n",
       "120   7.445200e+10  \n",
       "121   8.898800e+10  \n",
       "122   1.070060e+11  \n",
       "123   1.359870e+11  "
      ]
     },
     "execution_count": 41,
     "metadata": {},
     "output_type": "execute_result"
    }
   ],
   "source": [
    "df4 = df[df['Ticker Symbol']=='AMZN']\n",
    "df4"
   ]
  },
  {
   "cell_type": "markdown",
   "id": "b3be92cc-5352-4203-b23e-abd94179f9cf",
   "metadata": {},
   "source": [
    "*Calculating and printing the average of values in the \"Total Revenue\" column in this new dataset.*"
   ]
  },
  {
   "cell_type": "code",
   "execution_count": 42,
   "id": "32fd54d1-fcf2-426e-a913-55cb58203b9a",
   "metadata": {},
   "outputs": [
    {
     "data": {
      "text/plain": [
       "101608250000.0"
      ]
     },
     "execution_count": 42,
     "metadata": {},
     "output_type": "execute_result"
    }
   ],
   "source": [
    "average2 = df4['Total Revenue'].mean()\n",
    "average2"
   ]
  },
  {
   "cell_type": "markdown",
   "id": "382c7949-5f68-4a55-84f6-1e034e807cb8",
   "metadata": {},
   "source": [
    "**The average total revenue of Amazon from 2013 to 2016 was about $101608250000.0.**"
   ]
  },
  {
   "cell_type": "markdown",
   "id": "3fb26220-39ae-4fbe-8d49-afb33b672166",
   "metadata": {},
   "source": [
    "*Creating and displaying a bar graph with the \"Period Ending\" of the new dataset on the x-axis, and the \"Total Revenue\" of the new dataset on the y axis, along with axis and title labels, colors, and other structural details.*"
   ]
  },
  {
   "cell_type": "code",
   "execution_count": 43,
   "id": "9e42b789-1e62-494c-a360-4742aa228a80",
   "metadata": {},
   "outputs": [
    {
     "data": {
      "image/png": "[encoded data removed]",
      "text/plain": [
       "<Figure size 800x600 with 1 Axes>"
      ]
     },
     "metadata": {},
     "output_type": "display_data"
    }
   ],
   "source": [
    "colors = ['blue', 'pink', 'yellow', 'red']\n",
    "plt.figure(figsize=(8,6))\n",
    "plt.bar(df4['Period Ending'], df4['Total Revenue'], color=colors)\n",
    "plt.xlabel('Period Ending of Year')\n",
    "plt.ylabel('Total Revenue')\n",
    "plt.title('Total Revenue at Period Ending of Each Year of Amazon.com Inc from 2013 to 2016')\n",
    "plt.xticks(rotation=45)\n",
    "plt.tight_layout()\n",
    "plt.show()"
   ]
  }
 ],
 "metadata": {
  "kernelspec": {
   "display_name": "Python 3 (ipykernel)",
   "language": "python",
   "name": "python3"
  },
  "language_info": {
   "codemirror_mode": {
    "name": "ipython",
    "version": 3
   },
   "file_extension": ".py",
   "mimetype": "text/x-python",
   "name": "python",
   "nbconvert_exporter": "python",
   "pygments_lexer": "ipython3",
   "version": "3.11.7"
  }
 },
 "nbformat": 4,
 "nbformat_minor": 5
}
